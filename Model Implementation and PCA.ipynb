{
 "cells": [
  {
   "cell_type": "code",
   "execution_count": 1,
   "id": "f804c4a6",
   "metadata": {},
   "outputs": [],
   "source": [
    "import pandas as pd\n",
    "import matplotlib.pyplot as plt\n",
    "import sklearn\n",
    "import numpy as np\n",
    "import seaborn as sns \n",
    "\n",
    "from sklearn.preprocessing import OrdinalEncoder\n",
    "from sklearn.preprocessing import StandardScaler\n",
    "\n",
    "from sklearn.preprocessing import MinMaxScaler\n",
    "from sklearn.decomposition import PCA\n",
    "from sklearn.feature_selection import SelectPercentile\n",
    "\n",
    "from sklearn.neighbors import KNeighborsRegressor\n",
    "from sklearn.model_selection import KFold\n",
    "from sklearn.svm import SVR\n",
    "from sklearn.model_selection import train_test_split\n",
    "from sklearn.model_selection import cross_val_score\n",
    "from sklearn.model_selection import cross_validate\n",
    "\n",
    "from sklearn import metrics\n",
    "from sklearn.linear_model import LinearRegression, Ridge, Lasso\n",
    "from sklearn.ensemble import RandomForestRegressor\n",
    "\n",
    "\n",
    "from numpy import loadtxt\n",
    "from sklearn.model_selection import train_test_split\n",
    "from sklearn.metrics import accuracy_score\n",
    "\n",
    "\n",
    "import warnings\n",
    "\n",
    "import pickle\n",
    "\n",
    "sns.set()\n",
    "warnings.filterwarnings('ignore')\n",
    "\n",
    "from sklearn.feature_selection import mutual_info_regression, SelectKBest, chi2\n",
    "from sklearn.ensemble import ExtraTreesClassifier, RandomForestRegressor, RandomForestClassifier, StackingClassifier, GradientBoostingClassifier\n",
    "from sklearn.preprocessing import StandardScaler, scale, MinMaxScaler\n",
    "from sklearn.decomposition import PCA\n",
    "from sklearn.metrics import accuracy_score, classification_report, confusion_matrix, mean_absolute_percentage_error, mean_squared_error, roc_auc_score, log_loss, precision_recall_fscore_support, mean_absolute_error\n",
    "from sklearn.model_selection import train_test_split, cross_val_score, cross_validate, GridSearchCV, RandomizedSearchCV\n",
    "from sklearn.linear_model import LogisticRegression\n",
    "from sklearn.pipeline import Pipeline\n",
    "\n",
    "from sklearn.discriminant_analysis import QuadraticDiscriminantAnalysis\n",
    "from sklearn.discriminant_analysis import LinearDiscriminantAnalysis\n",
    "\n",
    "from imblearn.over_sampling import RandomOverSampler, SMOTE\n",
    "\n",
    "from pprint import pprint\n",
    "import xgboost\n",
    "from xgboost import XGBRegressor, XGBClassifier\n",
    "\n",
    "from sklearn.tree import DecisionTreeClassifier"
   ]
  },
  {
   "cell_type": "code",
   "execution_count": 2,
   "id": "556e1ef1",
   "metadata": {},
   "outputs": [
    {
     "data": {
      "text/html": [
       "<div>\n",
       "<style scoped>\n",
       "    .dataframe tbody tr th:only-of-type {\n",
       "        vertical-align: middle;\n",
       "    }\n",
       "\n",
       "    .dataframe tbody tr th {\n",
       "        vertical-align: top;\n",
       "    }\n",
       "\n",
       "    .dataframe thead th {\n",
       "        text-align: right;\n",
       "    }\n",
       "</style>\n",
       "<table border=\"1\" class=\"dataframe\">\n",
       "  <thead>\n",
       "    <tr style=\"text-align: right;\">\n",
       "      <th></th>\n",
       "      <th>Unnamed: 0</th>\n",
       "      <th>ListingKey</th>\n",
       "      <th>CreditGrade</th>\n",
       "      <th>Term</th>\n",
       "      <th>LoanStatus</th>\n",
       "      <th>BorrowerAPR</th>\n",
       "      <th>BorrowerRate</th>\n",
       "      <th>LenderYield</th>\n",
       "      <th>EstimatedEffectiveYield</th>\n",
       "      <th>EstimatedLoss</th>\n",
       "      <th>...</th>\n",
       "      <th>PercentFunded</th>\n",
       "      <th>Recommendations</th>\n",
       "      <th>InvestmentFromFriendsCount</th>\n",
       "      <th>InvestmentFromFriendsAmount</th>\n",
       "      <th>Investors</th>\n",
       "      <th>date</th>\n",
       "      <th>year</th>\n",
       "      <th>month</th>\n",
       "      <th>ListingCategory</th>\n",
       "      <th>WageGroup</th>\n",
       "    </tr>\n",
       "  </thead>\n",
       "  <tbody>\n",
       "    <tr>\n",
       "      <th>0</th>\n",
       "      <td>0</td>\n",
       "      <td>1021339766868145413AB3B</td>\n",
       "      <td>C</td>\n",
       "      <td>36</td>\n",
       "      <td>1</td>\n",
       "      <td>0.16516</td>\n",
       "      <td>0.1580</td>\n",
       "      <td>0.1380</td>\n",
       "      <td>0.13885</td>\n",
       "      <td>0.0724</td>\n",
       "      <td>...</td>\n",
       "      <td>1.0</td>\n",
       "      <td>0</td>\n",
       "      <td>0</td>\n",
       "      <td>0.0</td>\n",
       "      <td>258</td>\n",
       "      <td>2007-08-26</td>\n",
       "      <td>2007</td>\n",
       "      <td>8</td>\n",
       "      <td>Not Available</td>\n",
       "      <td>MediumWage</td>\n",
       "    </tr>\n",
       "    <tr>\n",
       "      <th>1</th>\n",
       "      <td>11</td>\n",
       "      <td>0F1734025150298088A5F2B</td>\n",
       "      <td>C</td>\n",
       "      <td>36</td>\n",
       "      <td>1</td>\n",
       "      <td>0.15033</td>\n",
       "      <td>0.1325</td>\n",
       "      <td>0.1225</td>\n",
       "      <td>0.11335</td>\n",
       "      <td>0.0724</td>\n",
       "      <td>...</td>\n",
       "      <td>1.0</td>\n",
       "      <td>0</td>\n",
       "      <td>0</td>\n",
       "      <td>0.0</td>\n",
       "      <td>53</td>\n",
       "      <td>2007-10-09</td>\n",
       "      <td>2007</td>\n",
       "      <td>10</td>\n",
       "      <td>Not Available</td>\n",
       "      <td>LowWage</td>\n",
       "    </tr>\n",
       "    <tr>\n",
       "      <th>2</th>\n",
       "      <td>12</td>\n",
       "      <td>0F1A3597143888805163EF7</td>\n",
       "      <td>Unknown</td>\n",
       "      <td>36</td>\n",
       "      <td>0</td>\n",
       "      <td>0.17969</td>\n",
       "      <td>0.1435</td>\n",
       "      <td>0.1335</td>\n",
       "      <td>0.12640</td>\n",
       "      <td>0.0524</td>\n",
       "      <td>...</td>\n",
       "      <td>1.0</td>\n",
       "      <td>0</td>\n",
       "      <td>0</td>\n",
       "      <td>0.0</td>\n",
       "      <td>1</td>\n",
       "      <td>2013-12-15</td>\n",
       "      <td>2013</td>\n",
       "      <td>12</td>\n",
       "      <td>Debt Consolidation</td>\n",
       "      <td>LowWage</td>\n",
       "    </tr>\n",
       "    <tr>\n",
       "      <th>3</th>\n",
       "      <td>15</td>\n",
       "      <td>0F483544120452347F48121</td>\n",
       "      <td>Unknown</td>\n",
       "      <td>36</td>\n",
       "      <td>0</td>\n",
       "      <td>0.35797</td>\n",
       "      <td>0.3177</td>\n",
       "      <td>0.3077</td>\n",
       "      <td>0.28960</td>\n",
       "      <td>0.1650</td>\n",
       "      <td>...</td>\n",
       "      <td>1.0</td>\n",
       "      <td>0</td>\n",
       "      <td>0</td>\n",
       "      <td>0.0</td>\n",
       "      <td>10</td>\n",
       "      <td>2012-04-10</td>\n",
       "      <td>2012</td>\n",
       "      <td>4</td>\n",
       "      <td>Household Expenses</td>\n",
       "      <td>MediumWage</td>\n",
       "    </tr>\n",
       "    <tr>\n",
       "      <th>4</th>\n",
       "      <td>21</td>\n",
       "      <td>1017340630713945364DA6B</td>\n",
       "      <td>D</td>\n",
       "      <td>36</td>\n",
       "      <td>1</td>\n",
       "      <td>0.21488</td>\n",
       "      <td>0.2075</td>\n",
       "      <td>0.1975</td>\n",
       "      <td>0.18835</td>\n",
       "      <td>0.0724</td>\n",
       "      <td>...</td>\n",
       "      <td>1.0</td>\n",
       "      <td>0</td>\n",
       "      <td>0</td>\n",
       "      <td>0.0</td>\n",
       "      <td>53</td>\n",
       "      <td>2007-11-30</td>\n",
       "      <td>2007</td>\n",
       "      <td>11</td>\n",
       "      <td>Not Available</td>\n",
       "      <td>MediumWage</td>\n",
       "    </tr>\n",
       "  </tbody>\n",
       "</table>\n",
       "<p>5 rows × 71 columns</p>\n",
       "</div>"
      ],
      "text/plain": [
       "   Unnamed: 0               ListingKey CreditGrade  Term  LoanStatus  \\\n",
       "0           0  1021339766868145413AB3B           C    36           1   \n",
       "1          11  0F1734025150298088A5F2B           C    36           1   \n",
       "2          12  0F1A3597143888805163EF7     Unknown    36           0   \n",
       "3          15  0F483544120452347F48121     Unknown    36           0   \n",
       "4          21  1017340630713945364DA6B           D    36           1   \n",
       "\n",
       "   BorrowerAPR  BorrowerRate  LenderYield  EstimatedEffectiveYield  \\\n",
       "0      0.16516        0.1580       0.1380                  0.13885   \n",
       "1      0.15033        0.1325       0.1225                  0.11335   \n",
       "2      0.17969        0.1435       0.1335                  0.12640   \n",
       "3      0.35797        0.3177       0.3077                  0.28960   \n",
       "4      0.21488        0.2075       0.1975                  0.18835   \n",
       "\n",
       "   EstimatedLoss  ...  PercentFunded  Recommendations  \\\n",
       "0         0.0724  ...            1.0                0   \n",
       "1         0.0724  ...            1.0                0   \n",
       "2         0.0524  ...            1.0                0   \n",
       "3         0.1650  ...            1.0                0   \n",
       "4         0.0724  ...            1.0                0   \n",
       "\n",
       "   InvestmentFromFriendsCount  InvestmentFromFriendsAmount Investors  \\\n",
       "0                           0                          0.0       258   \n",
       "1                           0                          0.0        53   \n",
       "2                           0                          0.0         1   \n",
       "3                           0                          0.0        10   \n",
       "4                           0                          0.0        53   \n",
       "\n",
       "         date  year  month     ListingCategory   WageGroup  \n",
       "0  2007-08-26  2007      8       Not Available  MediumWage  \n",
       "1  2007-10-09  2007     10       Not Available     LowWage  \n",
       "2  2013-12-15  2013     12  Debt Consolidation     LowWage  \n",
       "3  2012-04-10  2012      4  Household Expenses  MediumWage  \n",
       "4  2007-11-30  2007     11       Not Available  MediumWage  \n",
       "\n",
       "[5 rows x 71 columns]"
      ]
     },
     "execution_count": 2,
     "metadata": {},
     "output_type": "execute_result"
    }
   ],
   "source": [
    "loan_df=pd.read_csv(\"loan_data_file.csv\")\n",
    "loan_df.head()"
   ]
  },
  {
   "cell_type": "code",
   "execution_count": 3,
   "id": "9b4d0e30",
   "metadata": {},
   "outputs": [],
   "source": [
    "loan_df.drop(\"Unnamed: 0\",axis=1,inplace=True)"
   ]
  },
  {
   "cell_type": "code",
   "execution_count": 4,
   "id": "c61cf12d",
   "metadata": {},
   "outputs": [
    {
     "data": {
      "text/plain": [
       "0    70\n",
       "dtype: int64"
      ]
     },
     "execution_count": 4,
     "metadata": {},
     "output_type": "execute_result"
    }
   ],
   "source": [
    "loan_df.isna().sum().value_counts()"
   ]
  },
  {
   "cell_type": "markdown",
   "id": "956c9e80",
   "metadata": {},
   "source": [
    "## Feature Engineering\n",
    "***It's safe to drop the PercentFunded variable. BorrowerAPR and LenderYield are both versions of BorrowerRate, just with fees included, so they're unnecessary. occupation is a broad and hard to use column the estimation are unnecessary as it's our role to perform better than them***"
   ]
  },
  {
   "cell_type": "code",
   "execution_count": 5,
   "id": "05bc2e92",
   "metadata": {},
   "outputs": [
    {
     "name": "stdout",
     "output_type": "stream",
     "text": [
      "<class 'pandas.core.frame.DataFrame'>\n",
      "RangeIndex: 49724 entries, 0 to 49723\n",
      "Data columns (total 42 columns):\n",
      " #   Column                              Non-Null Count  Dtype  \n",
      "---  ------                              --------------  -----  \n",
      " 0   CreditGrade                         49724 non-null  object \n",
      " 1   Term                                49724 non-null  int64  \n",
      " 2   LoanStatus                          49724 non-null  int64  \n",
      " 3   BorrowerAPR                         49724 non-null  float64\n",
      " 4   BorrowerRate                        49724 non-null  float64\n",
      " 5   LenderYield                         49724 non-null  float64\n",
      " 6   ProsperScore                        49724 non-null  int64  \n",
      " 7   BorrowerState                       49724 non-null  object \n",
      " 8   EmploymentStatus                    49724 non-null  int64  \n",
      " 9   IsBorrowerHomeowner                 49724 non-null  bool   \n",
      " 10  CreditScore                         49724 non-null  float64\n",
      " 11  FirstRecordedCreditLine             49724 non-null  object \n",
      " 12  CurrentCreditLines                  49724 non-null  float64\n",
      " 13  OpenCreditLines                     49724 non-null  float64\n",
      " 14  TotalCreditLinespast7years          49724 non-null  float64\n",
      " 15  OpenRevolvingAccounts               49724 non-null  int64  \n",
      " 16  OpenRevolvingMonthlyPayment         49724 non-null  float64\n",
      " 17  InquiriesLast6Months                49724 non-null  float64\n",
      " 18  TotalInquiries                      49724 non-null  float64\n",
      " 19  RevolvingCreditBalance              49724 non-null  float64\n",
      " 20  BankcardUtilization                 49724 non-null  float64\n",
      " 21  AvailableBankcardCredit             49724 non-null  float64\n",
      " 22  TotalTrades                         49724 non-null  float64\n",
      " 23  TradesNeverDelinquent (percentage)  49724 non-null  float64\n",
      " 24  DebtToIncomeRatio                   49724 non-null  float64\n",
      " 25  IncomeVerifiable                    49724 non-null  bool   \n",
      " 26  StatedMonthlyIncome                 49724 non-null  float64\n",
      " 27  LoanMonthsSinceOrigination          49724 non-null  int64  \n",
      " 28  LoanOriginalAmount                  49724 non-null  int64  \n",
      " 29  MonthlyLoanPayment                  49724 non-null  float64\n",
      " 30  LP_CustomerPayments                 49724 non-null  float64\n",
      " 31  LP_CustomerPrincipalPayments        49724 non-null  float64\n",
      " 32  LP_InterestandFees                  49724 non-null  float64\n",
      " 33  LP_ServiceFees                      49724 non-null  float64\n",
      " 34  LP_CollectionFees                   49724 non-null  float64\n",
      " 35  LP_GrossPrincipalLoss               49724 non-null  float64\n",
      " 36  LP_NetPrincipalLoss                 49724 non-null  float64\n",
      " 37  LP_NonPrincipalRecoverypayments     49724 non-null  float64\n",
      " 38  Investors                           49724 non-null  int64  \n",
      " 39  year                                49724 non-null  int64  \n",
      " 40  month                               49724 non-null  int64  \n",
      " 41  WageGroup                           49724 non-null  object \n",
      "dtypes: bool(2), float64(26), int64(10), object(4)\n",
      "memory usage: 15.3+ MB\n"
     ]
    }
   ],
   "source": [
    "loan_df.drop([\"EstimatedEffectiveYield\", \"EstimatedLoss\", \"EstimatedReturn\",\n",
    "                  \"Occupation\", \"CurrentlyInGroup\", \"GroupKey\", \"PercentFunded\",\"ProsperRating (numeric)\",\n",
    "                  \"Recommendations\", \"InvestmentFromFriendsCount\", \"InvestmentFromFriendsAmount\",\n",
    "                  \"date\" , \"TotalProsperLoans\",\"TotalProsperPaymentsBilled\",\"OnTimeProsperPayments\",\n",
    "                  \"ProsperPaymentsLessThanOneMonthLate\",\"ProsperPaymentsOneMonthPlusLate\",\"ProsperPrincipalBorrowed\",\n",
    "                  \"ProsperPrincipalOutstanding\",\"ListingKey\",\"ListingCategory (numeric)\",\"ListingCategory\",\n",
    "                'CurrentDelinquencies','AmountDelinquent','DelinquenciesLast7Years',\"TradesOpenedLast6Months\",\"PublicRecordsLast10Years\",\"PublicRecordsLast12Months\",\n",
    "                ], axis=1,\n",
    "                inplace=True)\n",
    "\n",
    "loan_df.info()"
   ]
  },
  {
   "cell_type": "code",
   "execution_count": 6,
   "id": "47979535",
   "metadata": {},
   "outputs": [
    {
     "data": {
      "text/plain": [
       "0    1\n",
       "1    0\n",
       "2    0\n",
       "3    1\n",
       "4    0\n",
       "5    0\n",
       "6    0\n",
       "7    1\n",
       "8    0\n",
       "9    0\n",
       "Name: IsBorrowerHomeowner, dtype: int32"
      ]
     },
     "execution_count": 6,
     "metadata": {},
     "output_type": "execute_result"
    }
   ],
   "source": [
    "#adjusting the data types\n",
    "loan_df[\"IsBorrowerHomeowner\"] = loan_df[\"IsBorrowerHomeowner\"].astype(int)\n",
    "\n",
    "\n",
    "loan_df[\"IsBorrowerHomeowner\"][:10]"
   ]
  },
  {
   "cell_type": "code",
   "execution_count": 7,
   "id": "c6451b50",
   "metadata": {},
   "outputs": [
    {
     "data": {
      "text/plain": [
       "0    13\n",
       "1    14\n",
       "2    18\n",
       "3    15\n",
       "4    11\n",
       "5    16\n",
       "6    39\n",
       "7    14\n",
       "8    26\n",
       "9    11\n",
       "Name: YearsWithCredit, dtype: int64"
      ]
     },
     "execution_count": 7,
     "metadata": {},
     "output_type": "execute_result"
    }
   ],
   "source": [
    "first_credit_year = loan_df[\"FirstRecordedCreditLine\"].str[:4]\n",
    "\n",
    "loan_df[\"YearsWithCredit\"] = 2014 - pd.to_numeric(first_credit_year)\n",
    "\n",
    "loan_df.drop(\"FirstRecordedCreditLine\", axis=1, inplace=True)\n",
    "\n",
    "loan_df[\"YearsWithCredit\"][:10]"
   ]
  },
  {
   "cell_type": "code",
   "execution_count": 8,
   "id": "3c3a53c5",
   "metadata": {},
   "outputs": [],
   "source": [
    "loan_df.drop([\"BorrowerState\"],inplace=True, axis=1)\n"
   ]
  },
  {
   "cell_type": "code",
   "execution_count": 9,
   "id": "5afb44d4",
   "metadata": {},
   "outputs": [
    {
     "name": "stdout",
     "output_type": "stream",
     "text": [
      "<class 'pandas.core.frame.DataFrame'>\n",
      "RangeIndex: 49724 entries, 0 to 49723\n",
      "Data columns (total 41 columns):\n",
      " #   Column                              Non-Null Count  Dtype  \n",
      "---  ------                              --------------  -----  \n",
      " 0   CreditGrade                         49724 non-null  object \n",
      " 1   Term                                49724 non-null  int64  \n",
      " 2   LoanStatus                          49724 non-null  int64  \n",
      " 3   BorrowerAPR                         49724 non-null  float64\n",
      " 4   BorrowerRate                        49724 non-null  float64\n",
      " 5   LenderYield                         49724 non-null  float64\n",
      " 6   ProsperScore                        49724 non-null  int64  \n",
      " 7   EmploymentStatus                    49724 non-null  int64  \n",
      " 8   IsBorrowerHomeowner                 49724 non-null  int32  \n",
      " 9   CreditScore                         49724 non-null  float64\n",
      " 10  CurrentCreditLines                  49724 non-null  float64\n",
      " 11  OpenCreditLines                     49724 non-null  float64\n",
      " 12  TotalCreditLinespast7years          49724 non-null  float64\n",
      " 13  OpenRevolvingAccounts               49724 non-null  int64  \n",
      " 14  OpenRevolvingMonthlyPayment         49724 non-null  float64\n",
      " 15  InquiriesLast6Months                49724 non-null  float64\n",
      " 16  TotalInquiries                      49724 non-null  float64\n",
      " 17  RevolvingCreditBalance              49724 non-null  float64\n",
      " 18  BankcardUtilization                 49724 non-null  float64\n",
      " 19  AvailableBankcardCredit             49724 non-null  float64\n",
      " 20  TotalTrades                         49724 non-null  float64\n",
      " 21  TradesNeverDelinquent (percentage)  49724 non-null  float64\n",
      " 22  DebtToIncomeRatio                   49724 non-null  float64\n",
      " 23  IncomeVerifiable                    49724 non-null  bool   \n",
      " 24  StatedMonthlyIncome                 49724 non-null  float64\n",
      " 25  LoanMonthsSinceOrigination          49724 non-null  int64  \n",
      " 26  LoanOriginalAmount                  49724 non-null  int64  \n",
      " 27  MonthlyLoanPayment                  49724 non-null  float64\n",
      " 28  LP_CustomerPayments                 49724 non-null  float64\n",
      " 29  LP_CustomerPrincipalPayments        49724 non-null  float64\n",
      " 30  LP_InterestandFees                  49724 non-null  float64\n",
      " 31  LP_ServiceFees                      49724 non-null  float64\n",
      " 32  LP_CollectionFees                   49724 non-null  float64\n",
      " 33  LP_GrossPrincipalLoss               49724 non-null  float64\n",
      " 34  LP_NetPrincipalLoss                 49724 non-null  float64\n",
      " 35  LP_NonPrincipalRecoverypayments     49724 non-null  float64\n",
      " 36  Investors                           49724 non-null  int64  \n",
      " 37  year                                49724 non-null  int64  \n",
      " 38  month                               49724 non-null  int64  \n",
      " 39  WageGroup                           49724 non-null  object \n",
      " 40  YearsWithCredit                     49724 non-null  int64  \n",
      "dtypes: bool(1), float64(26), int32(1), int64(11), object(2)\n",
      "memory usage: 15.0+ MB\n"
     ]
    }
   ],
   "source": [
    "loan_df.info()"
   ]
  },
  {
   "cell_type": "code",
   "execution_count": 10,
   "id": "625dd1d3",
   "metadata": {},
   "outputs": [
    {
     "name": "stdout",
     "output_type": "stream",
     "text": [
      "<class 'pandas.core.frame.DataFrame'>\n",
      "RangeIndex: 49724 entries, 0 to 49723\n",
      "Data columns (total 43 columns):\n",
      " #   Column                              Non-Null Count  Dtype  \n",
      "---  ------                              --------------  -----  \n",
      " 0   CreditGrade                         49724 non-null  object \n",
      " 1   Term                                49724 non-null  int64  \n",
      " 2   LoanStatus                          49724 non-null  int64  \n",
      " 3   BorrowerAPR                         49724 non-null  float64\n",
      " 4   BorrowerRate                        49724 non-null  float64\n",
      " 5   LenderYield                         49724 non-null  float64\n",
      " 6   ProsperScore                        49724 non-null  int64  \n",
      " 7   EmploymentStatus                    49724 non-null  int64  \n",
      " 8   IsBorrowerHomeowner                 49724 non-null  int32  \n",
      " 9   CreditScore                         49724 non-null  float64\n",
      " 10  CurrentCreditLines                  49724 non-null  float64\n",
      " 11  OpenCreditLines                     49724 non-null  float64\n",
      " 12  TotalCreditLinespast7years          49724 non-null  float64\n",
      " 13  OpenRevolvingAccounts               49724 non-null  int64  \n",
      " 14  OpenRevolvingMonthlyPayment         49724 non-null  float64\n",
      " 15  InquiriesLast6Months                49724 non-null  float64\n",
      " 16  TotalInquiries                      49724 non-null  float64\n",
      " 17  RevolvingCreditBalance              49724 non-null  float64\n",
      " 18  BankcardUtilization                 49724 non-null  float64\n",
      " 19  AvailableBankcardCredit             49724 non-null  float64\n",
      " 20  TotalTrades                         49724 non-null  float64\n",
      " 21  TradesNeverDelinquent (percentage)  49724 non-null  float64\n",
      " 22  DebtToIncomeRatio                   49724 non-null  float64\n",
      " 23  IncomeVerifiable                    49724 non-null  bool   \n",
      " 24  StatedMonthlyIncome                 49724 non-null  float64\n",
      " 25  LoanMonthsSinceOrigination          49724 non-null  int64  \n",
      " 26  LoanOriginalAmount                  49724 non-null  int64  \n",
      " 27  MonthlyLoanPayment                  49724 non-null  float64\n",
      " 28  LP_CustomerPayments                 49724 non-null  float64\n",
      " 29  LP_CustomerPrincipalPayments        49724 non-null  float64\n",
      " 30  LP_InterestandFees                  49724 non-null  float64\n",
      " 31  LP_ServiceFees                      49724 non-null  float64\n",
      " 32  LP_CollectionFees                   49724 non-null  float64\n",
      " 33  LP_GrossPrincipalLoss               49724 non-null  float64\n",
      " 34  LP_NetPrincipalLoss                 49724 non-null  float64\n",
      " 35  LP_NonPrincipalRecoverypayments     49724 non-null  float64\n",
      " 36  Investors                           49724 non-null  int64  \n",
      " 37  year                                49724 non-null  int64  \n",
      " 38  month                               49724 non-null  int64  \n",
      " 39  YearsWithCredit                     49724 non-null  int64  \n",
      " 40  HighWage                            49724 non-null  uint8  \n",
      " 41  LowWage                             49724 non-null  uint8  \n",
      " 42  MediumWage                          49724 non-null  uint8  \n",
      "dtypes: bool(1), float64(26), int32(1), int64(11), object(1), uint8(3)\n",
      "memory usage: 14.8+ MB\n"
     ]
    }
   ],
   "source": [
    "state = pd.get_dummies(loan_df[\"WageGroup\"])\n",
    "\n",
    "loan_df = loan_df.join(state, rsuffix=\"_group\")\n",
    "loan_df.drop(\"WageGroup\", axis=1, inplace=True)\n",
    "\n",
    "loan_df.info()"
   ]
  },
  {
   "cell_type": "code",
   "execution_count": 11,
   "id": "d2ea6584",
   "metadata": {},
   "outputs": [],
   "source": [
    "loan_df.reset_index(drop=True, inplace=True)\n",
    "loan_df[loan_df.select_dtypes(include='uint8').columns] = loan_df[loan_df.select_dtypes(include='uint8').columns].astype('int64')"
   ]
  },
  {
   "cell_type": "code",
   "execution_count": 12,
   "id": "5af2834e",
   "metadata": {},
   "outputs": [
    {
     "name": "stdout",
     "output_type": "stream",
     "text": [
      "<class 'pandas.core.frame.DataFrame'>\n",
      "RangeIndex: 49724 entries, 0 to 49723\n",
      "Data columns (total 43 columns):\n",
      " #   Column                              Non-Null Count  Dtype  \n",
      "---  ------                              --------------  -----  \n",
      " 0   CreditGrade                         49724 non-null  object \n",
      " 1   Term                                49724 non-null  int64  \n",
      " 2   LoanStatus                          49724 non-null  int64  \n",
      " 3   BorrowerAPR                         49724 non-null  float64\n",
      " 4   BorrowerRate                        49724 non-null  float64\n",
      " 5   LenderYield                         49724 non-null  float64\n",
      " 6   ProsperScore                        49724 non-null  int64  \n",
      " 7   EmploymentStatus                    49724 non-null  int64  \n",
      " 8   IsBorrowerHomeowner                 49724 non-null  int32  \n",
      " 9   CreditScore                         49724 non-null  float64\n",
      " 10  CurrentCreditLines                  49724 non-null  float64\n",
      " 11  OpenCreditLines                     49724 non-null  float64\n",
      " 12  TotalCreditLinespast7years          49724 non-null  float64\n",
      " 13  OpenRevolvingAccounts               49724 non-null  int64  \n",
      " 14  OpenRevolvingMonthlyPayment         49724 non-null  float64\n",
      " 15  InquiriesLast6Months                49724 non-null  float64\n",
      " 16  TotalInquiries                      49724 non-null  float64\n",
      " 17  RevolvingCreditBalance              49724 non-null  float64\n",
      " 18  BankcardUtilization                 49724 non-null  float64\n",
      " 19  AvailableBankcardCredit             49724 non-null  float64\n",
      " 20  TotalTrades                         49724 non-null  float64\n",
      " 21  TradesNeverDelinquent (percentage)  49724 non-null  float64\n",
      " 22  DebtToIncomeRatio                   49724 non-null  float64\n",
      " 23  IncomeVerifiable                    49724 non-null  bool   \n",
      " 24  StatedMonthlyIncome                 49724 non-null  float64\n",
      " 25  LoanMonthsSinceOrigination          49724 non-null  int64  \n",
      " 26  LoanOriginalAmount                  49724 non-null  int64  \n",
      " 27  MonthlyLoanPayment                  49724 non-null  float64\n",
      " 28  LP_CustomerPayments                 49724 non-null  float64\n",
      " 29  LP_CustomerPrincipalPayments        49724 non-null  float64\n",
      " 30  LP_InterestandFees                  49724 non-null  float64\n",
      " 31  LP_ServiceFees                      49724 non-null  float64\n",
      " 32  LP_CollectionFees                   49724 non-null  float64\n",
      " 33  LP_GrossPrincipalLoss               49724 non-null  float64\n",
      " 34  LP_NetPrincipalLoss                 49724 non-null  float64\n",
      " 35  LP_NonPrincipalRecoverypayments     49724 non-null  float64\n",
      " 36  Investors                           49724 non-null  int64  \n",
      " 37  year                                49724 non-null  int64  \n",
      " 38  month                               49724 non-null  int64  \n",
      " 39  YearsWithCredit                     49724 non-null  int64  \n",
      " 40  HighWage                            49724 non-null  int64  \n",
      " 41  LowWage                             49724 non-null  int64  \n",
      " 42  MediumWage                          49724 non-null  int64  \n",
      "dtypes: bool(1), float64(26), int32(1), int64(14), object(1)\n",
      "memory usage: 15.8+ MB\n"
     ]
    }
   ],
   "source": [
    "loan_df.info()"
   ]
  },
  {
   "cell_type": "code",
   "execution_count": 13,
   "id": "1ef3df67",
   "metadata": {},
   "outputs": [],
   "source": [
    "from sklearn import preprocessing\n",
    "  \n",
    "# label_encoder object knows how to understand word labels.\n",
    "label_encoder = preprocessing.LabelEncoder()\n",
    "  \n",
    "# Encode labels in column 'species'.\n",
    "loan_df['CreditGrade']= label_encoder.fit_transform(loan_df['CreditGrade'])"
   ]
  },
  {
   "cell_type": "code",
   "execution_count": 14,
   "id": "76bcecd2",
   "metadata": {},
   "outputs": [
    {
     "name": "stdout",
     "output_type": "stream",
     "text": [
      "<class 'pandas.core.frame.DataFrame'>\n",
      "RangeIndex: 49724 entries, 0 to 49723\n",
      "Data columns (total 43 columns):\n",
      " #   Column                              Non-Null Count  Dtype  \n",
      "---  ------                              --------------  -----  \n",
      " 0   CreditGrade                         49724 non-null  int32  \n",
      " 1   Term                                49724 non-null  int64  \n",
      " 2   LoanStatus                          49724 non-null  int64  \n",
      " 3   BorrowerAPR                         49724 non-null  float64\n",
      " 4   BorrowerRate                        49724 non-null  float64\n",
      " 5   LenderYield                         49724 non-null  float64\n",
      " 6   ProsperScore                        49724 non-null  int64  \n",
      " 7   EmploymentStatus                    49724 non-null  int64  \n",
      " 8   IsBorrowerHomeowner                 49724 non-null  int32  \n",
      " 9   CreditScore                         49724 non-null  float64\n",
      " 10  CurrentCreditLines                  49724 non-null  float64\n",
      " 11  OpenCreditLines                     49724 non-null  float64\n",
      " 12  TotalCreditLinespast7years          49724 non-null  float64\n",
      " 13  OpenRevolvingAccounts               49724 non-null  int64  \n",
      " 14  OpenRevolvingMonthlyPayment         49724 non-null  float64\n",
      " 15  InquiriesLast6Months                49724 non-null  float64\n",
      " 16  TotalInquiries                      49724 non-null  float64\n",
      " 17  RevolvingCreditBalance              49724 non-null  float64\n",
      " 18  BankcardUtilization                 49724 non-null  float64\n",
      " 19  AvailableBankcardCredit             49724 non-null  float64\n",
      " 20  TotalTrades                         49724 non-null  float64\n",
      " 21  TradesNeverDelinquent (percentage)  49724 non-null  float64\n",
      " 22  DebtToIncomeRatio                   49724 non-null  float64\n",
      " 23  IncomeVerifiable                    49724 non-null  bool   \n",
      " 24  StatedMonthlyIncome                 49724 non-null  float64\n",
      " 25  LoanMonthsSinceOrigination          49724 non-null  int64  \n",
      " 26  LoanOriginalAmount                  49724 non-null  int64  \n",
      " 27  MonthlyLoanPayment                  49724 non-null  float64\n",
      " 28  LP_CustomerPayments                 49724 non-null  float64\n",
      " 29  LP_CustomerPrincipalPayments        49724 non-null  float64\n",
      " 30  LP_InterestandFees                  49724 non-null  float64\n",
      " 31  LP_ServiceFees                      49724 non-null  float64\n",
      " 32  LP_CollectionFees                   49724 non-null  float64\n",
      " 33  LP_GrossPrincipalLoss               49724 non-null  float64\n",
      " 34  LP_NetPrincipalLoss                 49724 non-null  float64\n",
      " 35  LP_NonPrincipalRecoverypayments     49724 non-null  float64\n",
      " 36  Investors                           49724 non-null  int64  \n",
      " 37  year                                49724 non-null  int64  \n",
      " 38  month                               49724 non-null  int64  \n",
      " 39  YearsWithCredit                     49724 non-null  int64  \n",
      " 40  HighWage                            49724 non-null  int64  \n",
      " 41  LowWage                             49724 non-null  int64  \n",
      " 42  MediumWage                          49724 non-null  int64  \n",
      "dtypes: bool(1), float64(26), int32(2), int64(14)\n",
      "memory usage: 15.6 MB\n"
     ]
    }
   ],
   "source": [
    "loan_df.info()"
   ]
  },
  {
   "cell_type": "code",
   "execution_count": 15,
   "id": "4dff52cb",
   "metadata": {},
   "outputs": [
    {
     "data": {
      "text/plain": [
       "660.0    6095\n",
       "680.0    6095\n",
       "640.0    5938\n",
       "700.0    5424\n",
       "720.0    4918\n",
       "740.0    3954\n",
       "760.0    3153\n",
       "620.0    2974\n",
       "600.0    2602\n",
       "780.0    2198\n",
       "800.0    1332\n",
       "520.0    1149\n",
       "560.0     997\n",
       "580.0     844\n",
       "820.0     800\n",
       "540.0     738\n",
       "840.0     348\n",
       "860.0     146\n",
       "880.0      19\n",
       "Name: CreditScore, dtype: int64"
      ]
     },
     "execution_count": 15,
     "metadata": {},
     "output_type": "execute_result"
    }
   ],
   "source": [
    "loan_df[\"CreditScore\"].value_counts()"
   ]
  },
  {
   "cell_type": "code",
   "execution_count": 16,
   "id": "477bb362",
   "metadata": {},
   "outputs": [
    {
     "data": {
      "text/plain": [
       "1    33530\n",
       "0    16194\n",
       "Name: LoanStatus, dtype: int64"
      ]
     },
     "execution_count": 16,
     "metadata": {},
     "output_type": "execute_result"
    }
   ],
   "source": [
    "loan_df[\"LoanStatus\"].value_counts()"
   ]
  },
  {
   "cell_type": "markdown",
   "id": "5c45e1c8",
   "metadata": {},
   "source": [
    "#### splitting the data into X and y"
   ]
  },
  {
   "cell_type": "code",
   "execution_count": 17,
   "id": "9171ce84",
   "metadata": {},
   "outputs": [],
   "source": [
    "X=loan_df.drop(\"LoanStatus\",axis=1)\n",
    "y=loan_df[\"LoanStatus\"]"
   ]
  },
  {
   "cell_type": "code",
   "execution_count": 18,
   "id": "c5b1824d",
   "metadata": {},
   "outputs": [
    {
     "data": {
      "text/html": [
       "<div>\n",
       "<style scoped>\n",
       "    .dataframe tbody tr th:only-of-type {\n",
       "        vertical-align: middle;\n",
       "    }\n",
       "\n",
       "    .dataframe tbody tr th {\n",
       "        vertical-align: top;\n",
       "    }\n",
       "\n",
       "    .dataframe thead th {\n",
       "        text-align: right;\n",
       "    }\n",
       "</style>\n",
       "<table border=\"1\" class=\"dataframe\">\n",
       "  <thead>\n",
       "    <tr style=\"text-align: right;\">\n",
       "      <th></th>\n",
       "      <th>CreditGrade</th>\n",
       "      <th>Term</th>\n",
       "      <th>BorrowerAPR</th>\n",
       "      <th>BorrowerRate</th>\n",
       "      <th>LenderYield</th>\n",
       "      <th>ProsperScore</th>\n",
       "      <th>EmploymentStatus</th>\n",
       "      <th>IsBorrowerHomeowner</th>\n",
       "      <th>CreditScore</th>\n",
       "      <th>CurrentCreditLines</th>\n",
       "      <th>...</th>\n",
       "      <th>LP_GrossPrincipalLoss</th>\n",
       "      <th>LP_NetPrincipalLoss</th>\n",
       "      <th>LP_NonPrincipalRecoverypayments</th>\n",
       "      <th>Investors</th>\n",
       "      <th>year</th>\n",
       "      <th>month</th>\n",
       "      <th>YearsWithCredit</th>\n",
       "      <th>HighWage</th>\n",
       "      <th>LowWage</th>\n",
       "      <th>MediumWage</th>\n",
       "    </tr>\n",
       "  </thead>\n",
       "  <tbody>\n",
       "    <tr>\n",
       "      <th>0</th>\n",
       "      <td>3</td>\n",
       "      <td>36</td>\n",
       "      <td>0.16516</td>\n",
       "      <td>0.1580</td>\n",
       "      <td>0.1380</td>\n",
       "      <td>5</td>\n",
       "      <td>1</td>\n",
       "      <td>1</td>\n",
       "      <td>640.0</td>\n",
       "      <td>5.0</td>\n",
       "      <td>...</td>\n",
       "      <td>0.00</td>\n",
       "      <td>0.00</td>\n",
       "      <td>0.0</td>\n",
       "      <td>258</td>\n",
       "      <td>2007</td>\n",
       "      <td>8</td>\n",
       "      <td>13</td>\n",
       "      <td>0</td>\n",
       "      <td>0</td>\n",
       "      <td>1</td>\n",
       "    </tr>\n",
       "    <tr>\n",
       "      <th>1</th>\n",
       "      <td>3</td>\n",
       "      <td>36</td>\n",
       "      <td>0.15033</td>\n",
       "      <td>0.1325</td>\n",
       "      <td>0.1225</td>\n",
       "      <td>5</td>\n",
       "      <td>1</td>\n",
       "      <td>0</td>\n",
       "      <td>640.0</td>\n",
       "      <td>2.0</td>\n",
       "      <td>...</td>\n",
       "      <td>0.00</td>\n",
       "      <td>0.00</td>\n",
       "      <td>0.0</td>\n",
       "      <td>53</td>\n",
       "      <td>2007</td>\n",
       "      <td>10</td>\n",
       "      <td>14</td>\n",
       "      <td>0</td>\n",
       "      <td>1</td>\n",
       "      <td>0</td>\n",
       "    </tr>\n",
       "    <tr>\n",
       "      <th>2</th>\n",
       "      <td>7</td>\n",
       "      <td>36</td>\n",
       "      <td>0.17969</td>\n",
       "      <td>0.1435</td>\n",
       "      <td>0.1335</td>\n",
       "      <td>4</td>\n",
       "      <td>1</td>\n",
       "      <td>0</td>\n",
       "      <td>680.0</td>\n",
       "      <td>9.0</td>\n",
       "      <td>...</td>\n",
       "      <td>0.00</td>\n",
       "      <td>0.00</td>\n",
       "      <td>0.0</td>\n",
       "      <td>1</td>\n",
       "      <td>2013</td>\n",
       "      <td>12</td>\n",
       "      <td>18</td>\n",
       "      <td>0</td>\n",
       "      <td>1</td>\n",
       "      <td>0</td>\n",
       "    </tr>\n",
       "    <tr>\n",
       "      <th>3</th>\n",
       "      <td>7</td>\n",
       "      <td>36</td>\n",
       "      <td>0.35797</td>\n",
       "      <td>0.3177</td>\n",
       "      <td>0.3077</td>\n",
       "      <td>5</td>\n",
       "      <td>0</td>\n",
       "      <td>1</td>\n",
       "      <td>700.0</td>\n",
       "      <td>10.0</td>\n",
       "      <td>...</td>\n",
       "      <td>3790.25</td>\n",
       "      <td>3790.25</td>\n",
       "      <td>0.0</td>\n",
       "      <td>10</td>\n",
       "      <td>2012</td>\n",
       "      <td>4</td>\n",
       "      <td>15</td>\n",
       "      <td>0</td>\n",
       "      <td>0</td>\n",
       "      <td>1</td>\n",
       "    </tr>\n",
       "    <tr>\n",
       "      <th>4</th>\n",
       "      <td>4</td>\n",
       "      <td>36</td>\n",
       "      <td>0.21488</td>\n",
       "      <td>0.2075</td>\n",
       "      <td>0.1975</td>\n",
       "      <td>5</td>\n",
       "      <td>1</td>\n",
       "      <td>0</td>\n",
       "      <td>620.0</td>\n",
       "      <td>4.0</td>\n",
       "      <td>...</td>\n",
       "      <td>0.00</td>\n",
       "      <td>0.00</td>\n",
       "      <td>0.0</td>\n",
       "      <td>53</td>\n",
       "      <td>2007</td>\n",
       "      <td>11</td>\n",
       "      <td>11</td>\n",
       "      <td>0</td>\n",
       "      <td>0</td>\n",
       "      <td>1</td>\n",
       "    </tr>\n",
       "  </tbody>\n",
       "</table>\n",
       "<p>5 rows × 42 columns</p>\n",
       "</div>"
      ],
      "text/plain": [
       "   CreditGrade  Term  BorrowerAPR  BorrowerRate  LenderYield  ProsperScore  \\\n",
       "0            3    36      0.16516        0.1580       0.1380             5   \n",
       "1            3    36      0.15033        0.1325       0.1225             5   \n",
       "2            7    36      0.17969        0.1435       0.1335             4   \n",
       "3            7    36      0.35797        0.3177       0.3077             5   \n",
       "4            4    36      0.21488        0.2075       0.1975             5   \n",
       "\n",
       "   EmploymentStatus  IsBorrowerHomeowner  CreditScore  CurrentCreditLines  \\\n",
       "0                 1                    1        640.0                 5.0   \n",
       "1                 1                    0        640.0                 2.0   \n",
       "2                 1                    0        680.0                 9.0   \n",
       "3                 0                    1        700.0                10.0   \n",
       "4                 1                    0        620.0                 4.0   \n",
       "\n",
       "   ...  LP_GrossPrincipalLoss  LP_NetPrincipalLoss  \\\n",
       "0  ...                   0.00                 0.00   \n",
       "1  ...                   0.00                 0.00   \n",
       "2  ...                   0.00                 0.00   \n",
       "3  ...                3790.25              3790.25   \n",
       "4  ...                   0.00                 0.00   \n",
       "\n",
       "   LP_NonPrincipalRecoverypayments  Investors  year  month  YearsWithCredit  \\\n",
       "0                              0.0        258  2007      8               13   \n",
       "1                              0.0         53  2007     10               14   \n",
       "2                              0.0          1  2013     12               18   \n",
       "3                              0.0         10  2012      4               15   \n",
       "4                              0.0         53  2007     11               11   \n",
       "\n",
       "   HighWage  LowWage  MediumWage  \n",
       "0         0        0           1  \n",
       "1         0        1           0  \n",
       "2         0        1           0  \n",
       "3         0        0           1  \n",
       "4         0        0           1  \n",
       "\n",
       "[5 rows x 42 columns]"
      ]
     },
     "execution_count": 18,
     "metadata": {},
     "output_type": "execute_result"
    }
   ],
   "source": [
    "X.head()"
   ]
  },
  {
   "cell_type": "code",
   "execution_count": 19,
   "id": "fa26f445",
   "metadata": {},
   "outputs": [
    {
     "data": {
      "text/plain": [
       "0    1\n",
       "1    1\n",
       "2    0\n",
       "3    0\n",
       "4    1\n",
       "Name: LoanStatus, dtype: int64"
      ]
     },
     "execution_count": 19,
     "metadata": {},
     "output_type": "execute_result"
    }
   ],
   "source": [
    "y.head()"
   ]
  },
  {
   "cell_type": "markdown",
   "id": "33dd7399",
   "metadata": {},
   "source": [
    "### Now we are going to preform the Scalling part in FE (Standarisation & Normalization)\n",
    "### Feature Selection by using mutual_info_classi"
   ]
  },
  {
   "cell_type": "code",
   "execution_count": 20,
   "id": "1e7549b0",
   "metadata": {},
   "outputs": [
    {
     "data": {
      "text/plain": [
       "array([1.41452162e-02, 1.95058035e-02, 6.00961919e-02, 5.25029036e-02,\n",
       "       5.01473965e-02, 1.96019815e-02, 5.94324029e-03, 7.27314636e-03,\n",
       "       2.01549068e-02, 1.24306019e-03, 4.29065104e-04, 0.00000000e+00,\n",
       "       9.04750394e-03, 5.65435494e-03, 1.80952488e-02, 1.53199233e-02,\n",
       "       8.46797183e-04, 1.00910456e-02, 1.13263921e-02, 2.98098301e-03,\n",
       "       9.23806189e-03, 1.26992493e-02, 6.84481572e-03, 1.13383720e-02,\n",
       "       1.55746581e-02, 2.56428822e-03, 4.64560846e-02, 1.91159859e-01,\n",
       "       5.26579092e-01, 2.14418414e-02, 2.56285930e-02, 7.54925643e-02,\n",
       "       4.53316794e-01, 4.47435018e-01, 6.71480544e-02, 5.08773412e-03,\n",
       "       1.55041441e-02, 1.46412993e-03, 0.00000000e+00, 1.42218705e-03,\n",
       "       4.66037886e-04, 7.71498937e-03])"
      ]
     },
     "execution_count": 20,
     "metadata": {},
     "output_type": "execute_result"
    }
   ],
   "source": [
    "from sklearn.feature_selection import mutual_info_classif\n",
    "# determine the mutual information\n",
    "mutual_info = mutual_info_classif(X, y)\n",
    "mutual_info"
   ]
  },
  {
   "cell_type": "code",
   "execution_count": 21,
   "id": "fac8d2a9",
   "metadata": {},
   "outputs": [
    {
     "data": {
      "text/plain": [
       "LP_CustomerPrincipalPayments          0.526579\n",
       "LP_GrossPrincipalLoss                 0.453317\n",
       "LP_NetPrincipalLoss                   0.447435\n",
       "LP_CustomerPayments                   0.191160\n",
       "LP_CollectionFees                     0.075493\n",
       "LP_NonPrincipalRecoverypayments       0.067148\n",
       "BorrowerAPR                           0.060096\n",
       "BorrowerRate                          0.052503\n",
       "LenderYield                           0.050147\n",
       "MonthlyLoanPayment                    0.046456\n",
       "LP_ServiceFees                        0.025629\n",
       "LP_InterestandFees                    0.021442\n",
       "CreditScore                           0.020155\n",
       "ProsperScore                          0.019602\n",
       "Term                                  0.019506\n",
       "InquiriesLast6Months                  0.018095\n",
       "LoanMonthsSinceOrigination            0.015575\n",
       "year                                  0.015504\n",
       "TotalInquiries                        0.015320\n",
       "CreditGrade                           0.014145\n",
       "DebtToIncomeRatio                     0.012699\n",
       "StatedMonthlyIncome                   0.011338\n",
       "AvailableBankcardCredit               0.011326\n",
       "BankcardUtilization                   0.010091\n",
       "TradesNeverDelinquent (percentage)    0.009238\n",
       "OpenRevolvingAccounts                 0.009048\n",
       "MediumWage                            0.007715\n",
       "IsBorrowerHomeowner                   0.007273\n",
       "IncomeVerifiable                      0.006845\n",
       "EmploymentStatus                      0.005943\n",
       "OpenRevolvingMonthlyPayment           0.005654\n",
       "Investors                             0.005088\n",
       "TotalTrades                           0.002981\n",
       "LoanOriginalAmount                    0.002564\n",
       "month                                 0.001464\n",
       "HighWage                              0.001422\n",
       "CurrentCreditLines                    0.001243\n",
       "RevolvingCreditBalance                0.000847\n",
       "LowWage                               0.000466\n",
       "OpenCreditLines                       0.000429\n",
       "YearsWithCredit                       0.000000\n",
       "TotalCreditLinespast7years            0.000000\n",
       "dtype: float64"
      ]
     },
     "execution_count": 21,
     "metadata": {},
     "output_type": "execute_result"
    }
   ],
   "source": [
    "mutual_info = pd.Series(mutual_info)\n",
    "mutual_info.index = X.columns\n",
    "mutual_info.sort_values(ascending=False)"
   ]
  },
  {
   "cell_type": "code",
   "execution_count": 22,
   "id": "2d50eaa7",
   "metadata": {},
   "outputs": [
    {
     "data": {
      "text/plain": [
       "<Axes: >"
      ]
     },
     "execution_count": 22,
     "metadata": {},
     "output_type": "execute_result"
    },
    {
     "data": {
      "image/png": "[encoded data removed]",
      "text/plain": [
       "<Figure size 2000x1000 with 1 Axes>"
      ]
     },
     "metadata": {},
     "output_type": "display_data"
    }
   ],
   "source": [
    "#let's plot the ordered mutual_info values per feature\n",
    "mutual_info.sort_values(ascending=False).plot.bar(figsize=(20, 10))"
   ]
  },
  {
   "cell_type": "code",
   "execution_count": 23,
   "id": "d536ecfc",
   "metadata": {},
   "outputs": [
    {
     "data": {
      "text/plain": [
       "<function sklearn.feature_selection._mutual_info.mutual_info_classif(X, y, *, discrete_features='auto', n_neighbors=3, copy=True, random_state=None)>"
      ]
     },
     "execution_count": 23,
     "metadata": {},
     "output_type": "execute_result"
    }
   ],
   "source": [
    "mutual_info_classif"
   ]
  },
  {
   "cell_type": "markdown",
   "id": "bcc4918f",
   "metadata": {},
   "source": [
    "### 15 best Feature selection using by mutual_info_classif"
   ]
  },
  {
   "cell_type": "code",
   "execution_count": 24,
   "id": "d22c2633",
   "metadata": {},
   "outputs": [
    {
     "data": {
      "text/plain": [
       "Index(['Term', 'BorrowerAPR', 'BorrowerRate', 'LenderYield', 'ProsperScore',\n",
       "       'CreditScore', 'MonthlyLoanPayment', 'LP_CustomerPayments',\n",
       "       'LP_CustomerPrincipalPayments', 'LP_InterestandFees', 'LP_ServiceFees',\n",
       "       'LP_CollectionFees', 'LP_GrossPrincipalLoss', 'LP_NetPrincipalLoss',\n",
       "       'LP_NonPrincipalRecoverypayments'],\n",
       "      dtype='object')"
      ]
     },
     "execution_count": 24,
     "metadata": {},
     "output_type": "execute_result"
    }
   ],
   "source": [
    "from sklearn.feature_selection import SelectKBest\n",
    "\n",
    "#Now we Will select the  top 15 important features\n",
    "\n",
    "sel_five_cols = SelectKBest(mutual_info_classif, k=15)\n",
    "sel_five_cols.fit(X, y)\n",
    "selected_data=X.columns[sel_five_cols.get_support()]\n",
    "selected_data"
   ]
  },
  {
   "cell_type": "code",
   "execution_count": 25,
   "id": "5654dfe7",
   "metadata": {},
   "outputs": [],
   "source": [
    "X=X.loc[:,[ 'CreditGrade', 'BorrowerAPR', 'BorrowerRate', 'LenderYield',\n",
    "       'ProsperScore', 'CreditScore', 'MonthlyLoanPayment',\n",
    "       'LP_CustomerPayments', 'LP_CustomerPrincipalPayments',\n",
    "       'LP_InterestandFees', 'LP_ServiceFees', 'LP_CollectionFees',\n",
    "       'LP_GrossPrincipalLoss', 'LP_NetPrincipalLoss',\n",
    "       'LP_NonPrincipalRecoverypayments']]"
   ]
  },
  {
   "cell_type": "code",
   "execution_count": 26,
   "id": "cf646362",
   "metadata": {},
   "outputs": [
    {
     "data": {
      "text/html": [
       "<div>\n",
       "<style scoped>\n",
       "    .dataframe tbody tr th:only-of-type {\n",
       "        vertical-align: middle;\n",
       "    }\n",
       "\n",
       "    .dataframe tbody tr th {\n",
       "        vertical-align: top;\n",
       "    }\n",
       "\n",
       "    .dataframe thead th {\n",
       "        text-align: right;\n",
       "    }\n",
       "</style>\n",
       "<table border=\"1\" class=\"dataframe\">\n",
       "  <thead>\n",
       "    <tr style=\"text-align: right;\">\n",
       "      <th></th>\n",
       "      <th>CreditGrade</th>\n",
       "      <th>BorrowerAPR</th>\n",
       "      <th>BorrowerRate</th>\n",
       "      <th>LenderYield</th>\n",
       "      <th>ProsperScore</th>\n",
       "      <th>CreditScore</th>\n",
       "      <th>MonthlyLoanPayment</th>\n",
       "      <th>LP_CustomerPayments</th>\n",
       "      <th>LP_CustomerPrincipalPayments</th>\n",
       "      <th>LP_InterestandFees</th>\n",
       "      <th>LP_ServiceFees</th>\n",
       "      <th>LP_CollectionFees</th>\n",
       "      <th>LP_GrossPrincipalLoss</th>\n",
       "      <th>LP_NetPrincipalLoss</th>\n",
       "      <th>LP_NonPrincipalRecoverypayments</th>\n",
       "    </tr>\n",
       "  </thead>\n",
       "  <tbody>\n",
       "    <tr>\n",
       "      <th>0</th>\n",
       "      <td>3</td>\n",
       "      <td>0.16516</td>\n",
       "      <td>0.1580</td>\n",
       "      <td>0.1380</td>\n",
       "      <td>5</td>\n",
       "      <td>640.0</td>\n",
       "      <td>330.43</td>\n",
       "      <td>11396.1400</td>\n",
       "      <td>9425.00</td>\n",
       "      <td>1971.1400</td>\n",
       "      <td>-133.18</td>\n",
       "      <td>0.0</td>\n",
       "      <td>0.00</td>\n",
       "      <td>0.00</td>\n",
       "      <td>0.0</td>\n",
       "    </tr>\n",
       "    <tr>\n",
       "      <th>1</th>\n",
       "      <td>3</td>\n",
       "      <td>0.15033</td>\n",
       "      <td>0.1325</td>\n",
       "      <td>0.1225</td>\n",
       "      <td>5</td>\n",
       "      <td>640.0</td>\n",
       "      <td>33.81</td>\n",
       "      <td>1011.6500</td>\n",
       "      <td>1000.00</td>\n",
       "      <td>11.6500</td>\n",
       "      <td>-0.88</td>\n",
       "      <td>0.0</td>\n",
       "      <td>0.00</td>\n",
       "      <td>0.00</td>\n",
       "      <td>0.0</td>\n",
       "    </tr>\n",
       "    <tr>\n",
       "      <th>2</th>\n",
       "      <td>7</td>\n",
       "      <td>0.17969</td>\n",
       "      <td>0.1435</td>\n",
       "      <td>0.1335</td>\n",
       "      <td>4</td>\n",
       "      <td>680.0</td>\n",
       "      <td>137.39</td>\n",
       "      <td>135.8174</td>\n",
       "      <td>88.64</td>\n",
       "      <td>47.1774</td>\n",
       "      <td>-3.40</td>\n",
       "      <td>0.0</td>\n",
       "      <td>0.00</td>\n",
       "      <td>0.00</td>\n",
       "      <td>0.0</td>\n",
       "    </tr>\n",
       "    <tr>\n",
       "      <th>3</th>\n",
       "      <td>7</td>\n",
       "      <td>0.35797</td>\n",
       "      <td>0.3177</td>\n",
       "      <td>0.3077</td>\n",
       "      <td>5</td>\n",
       "      <td>700.0</td>\n",
       "      <td>173.71</td>\n",
       "      <td>521.1300</td>\n",
       "      <td>209.75</td>\n",
       "      <td>311.3800</td>\n",
       "      <td>-9.81</td>\n",
       "      <td>0.0</td>\n",
       "      <td>3790.25</td>\n",
       "      <td>3790.25</td>\n",
       "      <td>0.0</td>\n",
       "    </tr>\n",
       "    <tr>\n",
       "      <th>4</th>\n",
       "      <td>4</td>\n",
       "      <td>0.21488</td>\n",
       "      <td>0.2075</td>\n",
       "      <td>0.1975</td>\n",
       "      <td>5</td>\n",
       "      <td>620.0</td>\n",
       "      <td>112.64</td>\n",
       "      <td>4061.0500</td>\n",
       "      <td>3000.00</td>\n",
       "      <td>1061.0500</td>\n",
       "      <td>-51.12</td>\n",
       "      <td>0.0</td>\n",
       "      <td>0.00</td>\n",
       "      <td>0.00</td>\n",
       "      <td>0.0</td>\n",
       "    </tr>\n",
       "  </tbody>\n",
       "</table>\n",
       "</div>"
      ],
      "text/plain": [
       "   CreditGrade  BorrowerAPR  BorrowerRate  LenderYield  ProsperScore  \\\n",
       "0            3      0.16516        0.1580       0.1380             5   \n",
       "1            3      0.15033        0.1325       0.1225             5   \n",
       "2            7      0.17969        0.1435       0.1335             4   \n",
       "3            7      0.35797        0.3177       0.3077             5   \n",
       "4            4      0.21488        0.2075       0.1975             5   \n",
       "\n",
       "   CreditScore  MonthlyLoanPayment  LP_CustomerPayments  \\\n",
       "0        640.0              330.43           11396.1400   \n",
       "1        640.0               33.81            1011.6500   \n",
       "2        680.0              137.39             135.8174   \n",
       "3        700.0              173.71             521.1300   \n",
       "4        620.0              112.64            4061.0500   \n",
       "\n",
       "   LP_CustomerPrincipalPayments  LP_InterestandFees  LP_ServiceFees  \\\n",
       "0                       9425.00           1971.1400         -133.18   \n",
       "1                       1000.00             11.6500           -0.88   \n",
       "2                         88.64             47.1774           -3.40   \n",
       "3                        209.75            311.3800           -9.81   \n",
       "4                       3000.00           1061.0500          -51.12   \n",
       "\n",
       "   LP_CollectionFees  LP_GrossPrincipalLoss  LP_NetPrincipalLoss  \\\n",
       "0                0.0                   0.00                 0.00   \n",
       "1                0.0                   0.00                 0.00   \n",
       "2                0.0                   0.00                 0.00   \n",
       "3                0.0                3790.25              3790.25   \n",
       "4                0.0                   0.00                 0.00   \n",
       "\n",
       "   LP_NonPrincipalRecoverypayments  \n",
       "0                              0.0  \n",
       "1                              0.0  \n",
       "2                              0.0  \n",
       "3                              0.0  \n",
       "4                              0.0  "
      ]
     },
     "execution_count": 26,
     "metadata": {},
     "output_type": "execute_result"
    }
   ],
   "source": [
    "X.head()"
   ]
  },
  {
   "cell_type": "markdown",
   "id": "dfdd9b70",
   "metadata": {},
   "source": [
    "### Handling imbalanced data\n",
    "\n",
    "To reduce overfitting and underfitting problem.\n",
    "\n",
    "Over Sampling minority class using Synthetic Minority Oversampling Technique (SMOTE)-In this method, synthetic samples are generated for the minority class and equal to the majority class"
   ]
  },
  {
   "cell_type": "code",
   "execution_count": 27,
   "id": "9511dad4",
   "metadata": {},
   "outputs": [
    {
     "data": {
      "text/plain": [
       "1    33530\n",
       "0    33530\n",
       "Name: LoanStatus, dtype: int64"
      ]
     },
     "execution_count": 27,
     "metadata": {},
     "output_type": "execute_result"
    }
   ],
   "source": [
    "from imblearn.over_sampling import SMOTE \n",
    "smot = SMOTE(sampling_strategy='minority') \n",
    "X, y = smot.fit_resample(X, y) \n",
    "y.value_counts()"
   ]
  },
  {
   "cell_type": "code",
   "execution_count": 28,
   "id": "7ca9ae75",
   "metadata": {},
   "outputs": [],
   "source": [
    "# Normalization of X\n",
    "X = (X - X.min()) / (X.max() - X.min())"
   ]
  },
  {
   "cell_type": "code",
   "execution_count": 29,
   "id": "85ff837e",
   "metadata": {},
   "outputs": [
    {
     "data": {
      "text/html": [
       "<div>\n",
       "<style scoped>\n",
       "    .dataframe tbody tr th:only-of-type {\n",
       "        vertical-align: middle;\n",
       "    }\n",
       "\n",
       "    .dataframe tbody tr th {\n",
       "        vertical-align: top;\n",
       "    }\n",
       "\n",
       "    .dataframe thead th {\n",
       "        text-align: right;\n",
       "    }\n",
       "</style>\n",
       "<table border=\"1\" class=\"dataframe\">\n",
       "  <thead>\n",
       "    <tr style=\"text-align: right;\">\n",
       "      <th></th>\n",
       "      <th>PC1</th>\n",
       "      <th>PC2</th>\n",
       "      <th>PC3</th>\n",
       "      <th>PC4</th>\n",
       "      <th>PC5</th>\n",
       "      <th>PC6</th>\n",
       "      <th>PC7</th>\n",
       "      <th>PC8</th>\n",
       "      <th>PC9</th>\n",
       "      <th>PC10</th>\n",
       "      <th>PC11</th>\n",
       "      <th>PC12</th>\n",
       "      <th>PC13</th>\n",
       "      <th>PC14</th>\n",
       "      <th>PC15</th>\n",
       "    </tr>\n",
       "  </thead>\n",
       "  <tbody>\n",
       "    <tr>\n",
       "      <th>0</th>\n",
       "      <td>0.405852</td>\n",
       "      <td>0.117251</td>\n",
       "      <td>-0.193186</td>\n",
       "      <td>0.144326</td>\n",
       "      <td>-0.136543</td>\n",
       "      <td>0.105499</td>\n",
       "      <td>0.016732</td>\n",
       "      <td>-0.004988</td>\n",
       "      <td>0.001341</td>\n",
       "      <td>-0.023278</td>\n",
       "      <td>-0.003532</td>\n",
       "      <td>-0.000913</td>\n",
       "      <td>-0.000381</td>\n",
       "      <td>0.016516</td>\n",
       "      <td>4.169150e-15</td>\n",
       "    </tr>\n",
       "    <tr>\n",
       "      <th>1</th>\n",
       "      <td>0.403073</td>\n",
       "      <td>0.127120</td>\n",
       "      <td>-0.199913</td>\n",
       "      <td>-0.279879</td>\n",
       "      <td>-0.010518</td>\n",
       "      <td>0.060190</td>\n",
       "      <td>-0.005789</td>\n",
       "      <td>-0.002300</td>\n",
       "      <td>-0.006658</td>\n",
       "      <td>0.013834</td>\n",
       "      <td>0.006532</td>\n",
       "      <td>-0.000627</td>\n",
       "      <td>0.000462</td>\n",
       "      <td>-0.001006</td>\n",
       "      <td>-1.140087e-16</td>\n",
       "    </tr>\n",
       "    <tr>\n",
       "      <th>2</th>\n",
       "      <td>0.051472</td>\n",
       "      <td>-0.262636</td>\n",
       "      <td>-0.066851</td>\n",
       "      <td>-0.265443</td>\n",
       "      <td>0.136897</td>\n",
       "      <td>0.263742</td>\n",
       "      <td>0.029424</td>\n",
       "      <td>0.031441</td>\n",
       "      <td>-0.006755</td>\n",
       "      <td>0.012684</td>\n",
       "      <td>0.001492</td>\n",
       "      <td>-0.002425</td>\n",
       "      <td>0.001594</td>\n",
       "      <td>-0.000842</td>\n",
       "      <td>4.161319e-17</td>\n",
       "    </tr>\n",
       "    <tr>\n",
       "      <th>3</th>\n",
       "      <td>-0.575462</td>\n",
       "      <td>0.031082</td>\n",
       "      <td>0.131473</td>\n",
       "      <td>-0.026034</td>\n",
       "      <td>0.142168</td>\n",
       "      <td>-0.110855</td>\n",
       "      <td>-0.029995</td>\n",
       "      <td>-0.000721</td>\n",
       "      <td>0.001686</td>\n",
       "      <td>-0.022801</td>\n",
       "      <td>0.004730</td>\n",
       "      <td>0.000823</td>\n",
       "      <td>-0.000998</td>\n",
       "      <td>0.000055</td>\n",
       "      <td>7.030271e-16</td>\n",
       "    </tr>\n",
       "    <tr>\n",
       "      <th>4</th>\n",
       "      <td>0.070014</td>\n",
       "      <td>0.141335</td>\n",
       "      <td>-0.190030</td>\n",
       "      <td>-0.087010</td>\n",
       "      <td>-0.081660</td>\n",
       "      <td>0.023134</td>\n",
       "      <td>0.019015</td>\n",
       "      <td>-0.011329</td>\n",
       "      <td>-0.004972</td>\n",
       "      <td>0.004279</td>\n",
       "      <td>-0.023310</td>\n",
       "      <td>-0.000193</td>\n",
       "      <td>0.000612</td>\n",
       "      <td>-0.002160</td>\n",
       "      <td>-2.080186e-16</td>\n",
       "    </tr>\n",
       "  </tbody>\n",
       "</table>\n",
       "</div>"
      ],
      "text/plain": [
       "        PC1       PC2       PC3       PC4       PC5       PC6       PC7  \\\n",
       "0  0.405852  0.117251 -0.193186  0.144326 -0.136543  0.105499  0.016732   \n",
       "1  0.403073  0.127120 -0.199913 -0.279879 -0.010518  0.060190 -0.005789   \n",
       "2  0.051472 -0.262636 -0.066851 -0.265443  0.136897  0.263742  0.029424   \n",
       "3 -0.575462  0.031082  0.131473 -0.026034  0.142168 -0.110855 -0.029995   \n",
       "4  0.070014  0.141335 -0.190030 -0.087010 -0.081660  0.023134  0.019015   \n",
       "\n",
       "        PC8       PC9      PC10      PC11      PC12      PC13      PC14  \\\n",
       "0 -0.004988  0.001341 -0.023278 -0.003532 -0.000913 -0.000381  0.016516   \n",
       "1 -0.002300 -0.006658  0.013834  0.006532 -0.000627  0.000462 -0.001006   \n",
       "2  0.031441 -0.006755  0.012684  0.001492 -0.002425  0.001594 -0.000842   \n",
       "3 -0.000721  0.001686 -0.022801  0.004730  0.000823 -0.000998  0.000055   \n",
       "4 -0.011329 -0.004972  0.004279 -0.023310 -0.000193  0.000612 -0.002160   \n",
       "\n",
       "           PC15  \n",
       "0  4.169150e-15  \n",
       "1 -1.140087e-16  \n",
       "2  4.161319e-17  \n",
       "3  7.030271e-16  \n",
       "4 -2.080186e-16  "
      ]
     },
     "execution_count": 29,
     "metadata": {},
     "output_type": "execute_result"
    }
   ],
   "source": [
    "from sklearn.decomposition import PCA\n",
    "\n",
    "# Create principal components\n",
    "pca = PCA()\n",
    "X_pca = pca.fit_transform(X)\n",
    "component_names = [f\"PC{i+1}\" for i in range(X_pca.shape[1])]\n",
    "X_pca = pd.DataFrame(X_pca, columns=component_names)\n",
    "\n",
    "X_pca.head()"
   ]
  },
  {
   "cell_type": "code",
   "execution_count": 30,
   "id": "e259f9b5",
   "metadata": {},
   "outputs": [
    {
     "data": {
      "text/html": [
       "<div>\n",
       "<style scoped>\n",
       "    .dataframe tbody tr th:only-of-type {\n",
       "        vertical-align: middle;\n",
       "    }\n",
       "\n",
       "    .dataframe tbody tr th {\n",
       "        vertical-align: top;\n",
       "    }\n",
       "\n",
       "    .dataframe thead th {\n",
       "        text-align: right;\n",
       "    }\n",
       "</style>\n",
       "<table border=\"1\" class=\"dataframe\">\n",
       "  <thead>\n",
       "    <tr style=\"text-align: right;\">\n",
       "      <th></th>\n",
       "      <th>PC1</th>\n",
       "      <th>PC2</th>\n",
       "      <th>PC3</th>\n",
       "      <th>PC4</th>\n",
       "      <th>PC5</th>\n",
       "      <th>PC6</th>\n",
       "      <th>PC7</th>\n",
       "      <th>PC8</th>\n",
       "      <th>PC9</th>\n",
       "      <th>PC10</th>\n",
       "      <th>PC11</th>\n",
       "      <th>PC12</th>\n",
       "      <th>PC13</th>\n",
       "      <th>PC14</th>\n",
       "      <th>PC15</th>\n",
       "    </tr>\n",
       "  </thead>\n",
       "  <tbody>\n",
       "    <tr>\n",
       "      <th>CreditGrade</th>\n",
       "      <td>-0.518250</td>\n",
       "      <td>-0.759064</td>\n",
       "      <td>0.189932</td>\n",
       "      <td>-0.052702</td>\n",
       "      <td>0.003912</td>\n",
       "      <td>0.335116</td>\n",
       "      <td>0.028462</td>\n",
       "      <td>-0.033367</td>\n",
       "      <td>0.003692</td>\n",
       "      <td>0.021632</td>\n",
       "      <td>-0.040698</td>\n",
       "      <td>-0.000888</td>\n",
       "      <td>0.001827</td>\n",
       "      <td>-0.001647</td>\n",
       "      <td>6.355520e-17</td>\n",
       "    </tr>\n",
       "    <tr>\n",
       "      <th>BorrowerAPR</th>\n",
       "      <td>-0.449015</td>\n",
       "      <td>0.160744</td>\n",
       "      <td>-0.014222</td>\n",
       "      <td>0.140116</td>\n",
       "      <td>0.060277</td>\n",
       "      <td>-0.171170</td>\n",
       "      <td>-0.046236</td>\n",
       "      <td>0.192834</td>\n",
       "      <td>-0.004142</td>\n",
       "      <td>-0.117048</td>\n",
       "      <td>0.816196</td>\n",
       "      <td>-0.021566</td>\n",
       "      <td>0.002297</td>\n",
       "      <td>-0.009681</td>\n",
       "      <td>9.572781e-16</td>\n",
       "    </tr>\n",
       "    <tr>\n",
       "      <th>BorrowerRate</th>\n",
       "      <td>-0.467979</td>\n",
       "      <td>0.222633</td>\n",
       "      <td>-0.018057</td>\n",
       "      <td>0.162027</td>\n",
       "      <td>0.006411</td>\n",
       "      <td>-0.228703</td>\n",
       "      <td>-0.018966</td>\n",
       "      <td>-0.082347</td>\n",
       "      <td>0.022308</td>\n",
       "      <td>-0.019503</td>\n",
       "      <td>-0.353530</td>\n",
       "      <td>0.002184</td>\n",
       "      <td>-0.010143</td>\n",
       "      <td>0.720691</td>\n",
       "      <td>-1.895185e-15</td>\n",
       "    </tr>\n",
       "    <tr>\n",
       "      <th>LenderYield</th>\n",
       "      <td>-0.478383</td>\n",
       "      <td>0.227305</td>\n",
       "      <td>-0.017871</td>\n",
       "      <td>0.171227</td>\n",
       "      <td>0.026858</td>\n",
       "      <td>-0.245616</td>\n",
       "      <td>-0.029336</td>\n",
       "      <td>-0.085908</td>\n",
       "      <td>0.004929</td>\n",
       "      <td>0.037690</td>\n",
       "      <td>-0.374728</td>\n",
       "      <td>0.021031</td>\n",
       "      <td>0.002461</td>\n",
       "      <td>-0.691550</td>\n",
       "      <td>8.966529e-16</td>\n",
       "    </tr>\n",
       "    <tr>\n",
       "      <th>ProsperScore</th>\n",
       "      <td>0.126414</td>\n",
       "      <td>-0.391220</td>\n",
       "      <td>0.134484</td>\n",
       "      <td>-0.068680</td>\n",
       "      <td>-0.474575</td>\n",
       "      <td>-0.759763</td>\n",
       "      <td>-0.053050</td>\n",
       "      <td>0.048790</td>\n",
       "      <td>-0.004819</td>\n",
       "      <td>-0.005929</td>\n",
       "      <td>0.021079</td>\n",
       "      <td>0.001961</td>\n",
       "      <td>-0.000815</td>\n",
       "      <td>-0.000639</td>\n",
       "      <td>-2.965582e-17</td>\n",
       "    </tr>\n",
       "    <tr>\n",
       "      <th>CreditScore</th>\n",
       "      <td>0.188225</td>\n",
       "      <td>-0.229682</td>\n",
       "      <td>0.243522</td>\n",
       "      <td>0.261605</td>\n",
       "      <td>0.811975</td>\n",
       "      <td>-0.344626</td>\n",
       "      <td>0.070898</td>\n",
       "      <td>-0.016598</td>\n",
       "      <td>0.006871</td>\n",
       "      <td>-0.011019</td>\n",
       "      <td>-0.017630</td>\n",
       "      <td>-0.002936</td>\n",
       "      <td>-0.001344</td>\n",
       "      <td>0.014677</td>\n",
       "      <td>-3.715202e-16</td>\n",
       "    </tr>\n",
       "    <tr>\n",
       "      <th>MonthlyLoanPayment</th>\n",
       "      <td>0.048826</td>\n",
       "      <td>0.014801</td>\n",
       "      <td>0.198562</td>\n",
       "      <td>0.275904</td>\n",
       "      <td>-0.076450</td>\n",
       "      <td>0.121688</td>\n",
       "      <td>-0.167299</td>\n",
       "      <td>0.881820</td>\n",
       "      <td>-0.057444</td>\n",
       "      <td>-0.071725</td>\n",
       "      <td>-0.217044</td>\n",
       "      <td>0.006060</td>\n",
       "      <td>0.002956</td>\n",
       "      <td>-0.000879</td>\n",
       "      <td>4.154071e-16</td>\n",
       "    </tr>\n",
       "    <tr>\n",
       "      <th>LP_CustomerPayments</th>\n",
       "      <td>0.103880</td>\n",
       "      <td>-0.078877</td>\n",
       "      <td>-0.054622</td>\n",
       "      <td>0.565778</td>\n",
       "      <td>-0.158660</td>\n",
       "      <td>0.095059</td>\n",
       "      <td>-0.154452</td>\n",
       "      <td>-0.196935</td>\n",
       "      <td>-0.026987</td>\n",
       "      <td>0.165938</td>\n",
       "      <td>0.067664</td>\n",
       "      <td>-0.003208</td>\n",
       "      <td>0.009636</td>\n",
       "      <td>0.006927</td>\n",
       "      <td>7.280506e-01</td>\n",
       "    </tr>\n",
       "    <tr>\n",
       "      <th>LP_CustomerPrincipalPayments</th>\n",
       "      <td>0.117168</td>\n",
       "      <td>-0.104779</td>\n",
       "      <td>-0.090963</td>\n",
       "      <td>0.530251</td>\n",
       "      <td>-0.124760</td>\n",
       "      <td>0.103144</td>\n",
       "      <td>-0.433569</td>\n",
       "      <td>-0.249415</td>\n",
       "      <td>0.077035</td>\n",
       "      <td>-0.096937</td>\n",
       "      <td>0.044460</td>\n",
       "      <td>0.010435</td>\n",
       "      <td>-0.011903</td>\n",
       "      <td>-0.002505</td>\n",
       "      <td>-6.260148e-01</td>\n",
       "    </tr>\n",
       "    <tr>\n",
       "      <th>LP_InterestandFees</th>\n",
       "      <td>0.008165</td>\n",
       "      <td>0.029233</td>\n",
       "      <td>0.061483</td>\n",
       "      <td>0.286252</td>\n",
       "      <td>-0.133913</td>\n",
       "      <td>0.016602</td>\n",
       "      <td>0.569036</td>\n",
       "      <td>0.045671</td>\n",
       "      <td>-0.242950</td>\n",
       "      <td>0.649658</td>\n",
       "      <td>0.076710</td>\n",
       "      <td>-0.031743</td>\n",
       "      <td>0.051786</td>\n",
       "      <td>0.023665</td>\n",
       "      <td>-2.793704e-01</td>\n",
       "    </tr>\n",
       "    <tr>\n",
       "      <th>LP_ServiceFees</th>\n",
       "      <td>-0.057435</td>\n",
       "      <td>0.008897</td>\n",
       "      <td>-0.059324</td>\n",
       "      <td>-0.294621</td>\n",
       "      <td>0.170837</td>\n",
       "      <td>-0.059385</td>\n",
       "      <td>-0.638610</td>\n",
       "      <td>0.060710</td>\n",
       "      <td>-0.172445</td>\n",
       "      <td>0.654751</td>\n",
       "      <td>0.033813</td>\n",
       "      <td>-0.004661</td>\n",
       "      <td>0.035790</td>\n",
       "      <td>0.034634</td>\n",
       "      <td>-1.564643e-17</td>\n",
       "    </tr>\n",
       "    <tr>\n",
       "      <th>LP_CollectionFees</th>\n",
       "      <td>-0.000059</td>\n",
       "      <td>-0.006556</td>\n",
       "      <td>-0.010598</td>\n",
       "      <td>-0.005349</td>\n",
       "      <td>0.006043</td>\n",
       "      <td>-0.000259</td>\n",
       "      <td>-0.047527</td>\n",
       "      <td>-0.068112</td>\n",
       "      <td>-0.573868</td>\n",
       "      <td>-0.231699</td>\n",
       "      <td>-0.035317</td>\n",
       "      <td>-0.464906</td>\n",
       "      <td>0.626486</td>\n",
       "      <td>-0.001850</td>\n",
       "      <td>-1.034267e-16</td>\n",
       "    </tr>\n",
       "    <tr>\n",
       "      <th>LP_GrossPrincipalLoss</th>\n",
       "      <td>0.012314</td>\n",
       "      <td>0.195509</td>\n",
       "      <td>0.656526</td>\n",
       "      <td>-0.037105</td>\n",
       "      <td>-0.094965</td>\n",
       "      <td>0.076062</td>\n",
       "      <td>-0.068781</td>\n",
       "      <td>-0.143854</td>\n",
       "      <td>0.224815</td>\n",
       "      <td>0.049500</td>\n",
       "      <td>0.056657</td>\n",
       "      <td>0.403321</td>\n",
       "      <td>0.519680</td>\n",
       "      <td>0.007391</td>\n",
       "      <td>-7.946491e-17</td>\n",
       "    </tr>\n",
       "    <tr>\n",
       "      <th>LP_NetPrincipalLoss</th>\n",
       "      <td>0.010866</td>\n",
       "      <td>0.184969</td>\n",
       "      <td>0.629533</td>\n",
       "      <td>-0.036385</td>\n",
       "      <td>-0.090728</td>\n",
       "      <td>0.075391</td>\n",
       "      <td>-0.095706</td>\n",
       "      <td>-0.177069</td>\n",
       "      <td>-0.229087</td>\n",
       "      <td>-0.041991</td>\n",
       "      <td>0.029115</td>\n",
       "      <td>-0.408301</td>\n",
       "      <td>-0.540090</td>\n",
       "      <td>-0.010277</td>\n",
       "      <td>6.066332e-17</td>\n",
       "    </tr>\n",
       "    <tr>\n",
       "      <th>LP_NonPrincipalRecoverypayments</th>\n",
       "      <td>0.000753</td>\n",
       "      <td>0.010465</td>\n",
       "      <td>0.015916</td>\n",
       "      <td>0.000196</td>\n",
       "      <td>-0.008782</td>\n",
       "      <td>-0.002194</td>\n",
       "      <td>0.019779</td>\n",
       "      <td>0.061870</td>\n",
       "      <td>0.684328</td>\n",
       "      <td>0.182059</td>\n",
       "      <td>-0.003575</td>\n",
       "      <td>-0.672587</td>\n",
       "      <td>0.203532</td>\n",
       "      <td>-0.008524</td>\n",
       "      <td>-2.973049e-17</td>\n",
       "    </tr>\n",
       "  </tbody>\n",
       "</table>\n",
       "</div>"
      ],
      "text/plain": [
       "                                      PC1       PC2       PC3       PC4  \\\n",
       "CreditGrade                     -0.518250 -0.759064  0.189932 -0.052702   \n",
       "BorrowerAPR                     -0.449015  0.160744 -0.014222  0.140116   \n",
       "BorrowerRate                    -0.467979  0.222633 -0.018057  0.162027   \n",
       "LenderYield                     -0.478383  0.227305 -0.017871  0.171227   \n",
       "ProsperScore                     0.126414 -0.391220  0.134484 -0.068680   \n",
       "CreditScore                      0.188225 -0.229682  0.243522  0.261605   \n",
       "MonthlyLoanPayment               0.048826  0.014801  0.198562  0.275904   \n",
       "LP_CustomerPayments              0.103880 -0.078877 -0.054622  0.565778   \n",
       "LP_CustomerPrincipalPayments     0.117168 -0.104779 -0.090963  0.530251   \n",
       "LP_InterestandFees               0.008165  0.029233  0.061483  0.286252   \n",
       "LP_ServiceFees                  -0.057435  0.008897 -0.059324 -0.294621   \n",
       "LP_CollectionFees               -0.000059 -0.006556 -0.010598 -0.005349   \n",
       "LP_GrossPrincipalLoss            0.012314  0.195509  0.656526 -0.037105   \n",
       "LP_NetPrincipalLoss              0.010866  0.184969  0.629533 -0.036385   \n",
       "LP_NonPrincipalRecoverypayments  0.000753  0.010465  0.015916  0.000196   \n",
       "\n",
       "                                      PC5       PC6       PC7       PC8  \\\n",
       "CreditGrade                      0.003912  0.335116  0.028462 -0.033367   \n",
       "BorrowerAPR                      0.060277 -0.171170 -0.046236  0.192834   \n",
       "BorrowerRate                     0.006411 -0.228703 -0.018966 -0.082347   \n",
       "LenderYield                      0.026858 -0.245616 -0.029336 -0.085908   \n",
       "ProsperScore                    -0.474575 -0.759763 -0.053050  0.048790   \n",
       "CreditScore                      0.811975 -0.344626  0.070898 -0.016598   \n",
       "MonthlyLoanPayment              -0.076450  0.121688 -0.167299  0.881820   \n",
       "LP_CustomerPayments             -0.158660  0.095059 -0.154452 -0.196935   \n",
       "LP_CustomerPrincipalPayments    -0.124760  0.103144 -0.433569 -0.249415   \n",
       "LP_InterestandFees              -0.133913  0.016602  0.569036  0.045671   \n",
       "LP_ServiceFees                   0.170837 -0.059385 -0.638610  0.060710   \n",
       "LP_CollectionFees                0.006043 -0.000259 -0.047527 -0.068112   \n",
       "LP_GrossPrincipalLoss           -0.094965  0.076062 -0.068781 -0.143854   \n",
       "LP_NetPrincipalLoss             -0.090728  0.075391 -0.095706 -0.177069   \n",
       "LP_NonPrincipalRecoverypayments -0.008782 -0.002194  0.019779  0.061870   \n",
       "\n",
       "                                      PC9      PC10      PC11      PC12  \\\n",
       "CreditGrade                      0.003692  0.021632 -0.040698 -0.000888   \n",
       "BorrowerAPR                     -0.004142 -0.117048  0.816196 -0.021566   \n",
       "BorrowerRate                     0.022308 -0.019503 -0.353530  0.002184   \n",
       "LenderYield                      0.004929  0.037690 -0.374728  0.021031   \n",
       "ProsperScore                    -0.004819 -0.005929  0.021079  0.001961   \n",
       "CreditScore                      0.006871 -0.011019 -0.017630 -0.002936   \n",
       "MonthlyLoanPayment              -0.057444 -0.071725 -0.217044  0.006060   \n",
       "LP_CustomerPayments             -0.026987  0.165938  0.067664 -0.003208   \n",
       "LP_CustomerPrincipalPayments     0.077035 -0.096937  0.044460  0.010435   \n",
       "LP_InterestandFees              -0.242950  0.649658  0.076710 -0.031743   \n",
       "LP_ServiceFees                  -0.172445  0.654751  0.033813 -0.004661   \n",
       "LP_CollectionFees               -0.573868 -0.231699 -0.035317 -0.464906   \n",
       "LP_GrossPrincipalLoss            0.224815  0.049500  0.056657  0.403321   \n",
       "LP_NetPrincipalLoss             -0.229087 -0.041991  0.029115 -0.408301   \n",
       "LP_NonPrincipalRecoverypayments  0.684328  0.182059 -0.003575 -0.672587   \n",
       "\n",
       "                                     PC13      PC14          PC15  \n",
       "CreditGrade                      0.001827 -0.001647  6.355520e-17  \n",
       "BorrowerAPR                      0.002297 -0.009681  9.572781e-16  \n",
       "BorrowerRate                    -0.010143  0.720691 -1.895185e-15  \n",
       "LenderYield                      0.002461 -0.691550  8.966529e-16  \n",
       "ProsperScore                    -0.000815 -0.000639 -2.965582e-17  \n",
       "CreditScore                     -0.001344  0.014677 -3.715202e-16  \n",
       "MonthlyLoanPayment               0.002956 -0.000879  4.154071e-16  \n",
       "LP_CustomerPayments              0.009636  0.006927  7.280506e-01  \n",
       "LP_CustomerPrincipalPayments    -0.011903 -0.002505 -6.260148e-01  \n",
       "LP_InterestandFees               0.051786  0.023665 -2.793704e-01  \n",
       "LP_ServiceFees                   0.035790  0.034634 -1.564643e-17  \n",
       "LP_CollectionFees                0.626486 -0.001850 -1.034267e-16  \n",
       "LP_GrossPrincipalLoss            0.519680  0.007391 -7.946491e-17  \n",
       "LP_NetPrincipalLoss             -0.540090 -0.010277  6.066332e-17  \n",
       "LP_NonPrincipalRecoverypayments  0.203532 -0.008524 -2.973049e-17  "
      ]
     },
     "execution_count": 30,
     "metadata": {},
     "output_type": "execute_result"
    }
   ],
   "source": [
    "data_load=pd.DataFrame(\n",
    "    pca.components_.T,  # transpose the matrix of loadings\n",
    "    columns=component_names,  # so the columns are the principal components\n",
    "    index=X.columns,  # and the rows are the original features\n",
    ")\n",
    "\n",
    "data_load"
   ]
  },
  {
   "cell_type": "code",
   "execution_count": 31,
   "id": "f946d64c",
   "metadata": {},
   "outputs": [],
   "source": [
    "# plot_variance(pca)"
   ]
  },
  {
   "cell_type": "markdown",
   "id": "be60c82f",
   "metadata": {},
   "source": [
    "## Model Implementation"
   ]
  },
  {
   "cell_type": "markdown",
   "id": "19f6dc4d",
   "metadata": {},
   "source": [
    "* Step 1: Splitting of the data first by using train and test split "
   ]
  },
  {
   "cell_type": "code",
   "execution_count": 32,
   "id": "44ba43d9",
   "metadata": {},
   "outputs": [
    {
     "name": "stdout",
     "output_type": "stream",
     "text": [
      "(67060, 15) (46942, 15) (20118, 15)\n"
     ]
    }
   ],
   "source": [
    "from sklearn.model_selection import train_test_split\n",
    "X_train, X_test, Y_train, Y_test = train_test_split(X_pca, y, test_size=0.30, random_state=100)\n",
    "print(X_pca.shape, X_train.shape, X_test.shape)"
   ]
  },
  {
   "cell_type": "markdown",
   "id": "b9d4c455",
   "metadata": {},
   "source": [
    "* Step 2 : Standarise the given data "
   ]
  },
  {
   "cell_type": "code",
   "execution_count": 33,
   "id": "4642d257",
   "metadata": {},
   "outputs": [],
   "source": [
    "from sklearn.preprocessing import StandardScaler\n",
    "scaler = StandardScaler()\n",
    "X_train_std = scaler.fit_transform(X_train)\n",
    "X_test_std = scaler.transform(X_test)"
   ]
  },
  {
   "cell_type": "markdown",
   "id": "5ed44292",
   "metadata": {},
   "source": [
    "* Step 3: Model Implementation on the provided data "
   ]
  },
  {
   "cell_type": "markdown",
   "id": "5b409411",
   "metadata": {},
   "source": [
    "### Gaussian Naive Baye's"
   ]
  },
  {
   "cell_type": "code",
   "execution_count": 34,
   "id": "4c85e8fd",
   "metadata": {},
   "outputs": [
    {
     "data": {
      "text/html": [
       "<style>#sk-container-id-1 {color: black;}#sk-container-id-1 pre{padding: 0;}#sk-container-id-1 div.sk-toggleable {background-color: white;}#sk-container-id-1 label.sk-toggleable__label {cursor: pointer;display: block;width: 100%;margin-bottom: 0;padding: 0.3em;box-sizing: border-box;text-align: center;}#sk-container-id-1 label.sk-toggleable__label-arrow:before {content: \"▸\";float: left;margin-right: 0.25em;color: #696969;}#sk-container-id-1 label.sk-toggleable__label-arrow:hover:before {color: black;}#sk-container-id-1 div.sk-estimator:hover label.sk-toggleable__label-arrow:before {color: black;}#sk-container-id-1 div.sk-toggleable__content {max-height: 0;max-width: 0;overflow: hidden;text-align: left;background-color: #f0f8ff;}#sk-container-id-1 div.sk-toggleable__content pre {margin: 0.2em;color: black;border-radius: 0.25em;background-color: #f0f8ff;}#sk-container-id-1 input.sk-toggleable__control:checked~div.sk-toggleable__content {max-height: 200px;max-width: 100%;overflow: auto;}#sk-container-id-1 input.sk-toggleable__control:checked~label.sk-toggleable__label-arrow:before {content: \"▾\";}#sk-container-id-1 div.sk-estimator input.sk-toggleable__control:checked~label.sk-toggleable__label {background-color: #d4ebff;}#sk-container-id-1 div.sk-label input.sk-toggleable__control:checked~label.sk-toggleable__label {background-color: #d4ebff;}#sk-container-id-1 input.sk-hidden--visually {border: 0;clip: rect(1px 1px 1px 1px);clip: rect(1px, 1px, 1px, 1px);height: 1px;margin: -1px;overflow: hidden;padding: 0;position: absolute;width: 1px;}#sk-container-id-1 div.sk-estimator {font-family: monospace;background-color: #f0f8ff;border: 1px dotted black;border-radius: 0.25em;box-sizing: border-box;margin-bottom: 0.5em;}#sk-container-id-1 div.sk-estimator:hover {background-color: #d4ebff;}#sk-container-id-1 div.sk-parallel-item::after {content: \"\";width: 100%;border-bottom: 1px solid gray;flex-grow: 1;}#sk-container-id-1 div.sk-label:hover label.sk-toggleable__label {background-color: #d4ebff;}#sk-container-id-1 div.sk-serial::before {content: \"\";position: absolute;border-left: 1px solid gray;box-sizing: border-box;top: 0;bottom: 0;left: 50%;z-index: 0;}#sk-container-id-1 div.sk-serial {display: flex;flex-direction: column;align-items: center;background-color: white;padding-right: 0.2em;padding-left: 0.2em;position: relative;}#sk-container-id-1 div.sk-item {position: relative;z-index: 1;}#sk-container-id-1 div.sk-parallel {display: flex;align-items: stretch;justify-content: center;background-color: white;position: relative;}#sk-container-id-1 div.sk-item::before, #sk-container-id-1 div.sk-parallel-item::before {content: \"\";position: absolute;border-left: 1px solid gray;box-sizing: border-box;top: 0;bottom: 0;left: 50%;z-index: -1;}#sk-container-id-1 div.sk-parallel-item {display: flex;flex-direction: column;z-index: 1;position: relative;background-color: white;}#sk-container-id-1 div.sk-parallel-item:first-child::after {align-self: flex-end;width: 50%;}#sk-container-id-1 div.sk-parallel-item:last-child::after {align-self: flex-start;width: 50%;}#sk-container-id-1 div.sk-parallel-item:only-child::after {width: 0;}#sk-container-id-1 div.sk-dashed-wrapped {border: 1px dashed gray;margin: 0 0.4em 0.5em 0.4em;box-sizing: border-box;padding-bottom: 0.4em;background-color: white;}#sk-container-id-1 div.sk-label label {font-family: monospace;font-weight: bold;display: inline-block;line-height: 1.2em;}#sk-container-id-1 div.sk-label-container {text-align: center;}#sk-container-id-1 div.sk-container {/* jupyter's `normalize.less` sets `[hidden] { display: none; }` but bootstrap.min.css set `[hidden] { display: none !important; }` so we also need the `!important` here to be able to override the default hidden behavior on the sphinx rendered scikit-learn.org. See: https://github.com/scikit-learn/scikit-learn/issues/21755 */display: inline-block !important;position: relative;}#sk-container-id-1 div.sk-text-repr-fallback {display: none;}</style><div id=\"sk-container-id-1\" class=\"sk-top-container\"><div class=\"sk-text-repr-fallback\"><pre>GaussianNB()</pre><b>In a Jupyter environment, please rerun this cell to show the HTML representation or trust the notebook. <br />On GitHub, the HTML representation is unable to render, please try loading this page with nbviewer.org.</b></div><div class=\"sk-container\" hidden><div class=\"sk-item\"><div class=\"sk-estimator sk-toggleable\"><input class=\"sk-toggleable__control sk-hidden--visually\" id=\"sk-estimator-id-1\" type=\"checkbox\" checked><label for=\"sk-estimator-id-1\" class=\"sk-toggleable__label sk-toggleable__label-arrow\">GaussianNB</label><div class=\"sk-toggleable__content\"><pre>GaussianNB()</pre></div></div></div></div></div>"
      ],
      "text/plain": [
       "GaussianNB()"
      ]
     },
     "execution_count": 34,
     "metadata": {},
     "output_type": "execute_result"
    }
   ],
   "source": [
    "from sklearn.naive_bayes import GaussianNB\n",
    "gnb = GaussianNB()\n",
    "gnb.fit(X_train_std, Y_train)"
   ]
  },
  {
   "cell_type": "code",
   "execution_count": 35,
   "id": "6d101a89",
   "metadata": {},
   "outputs": [],
   "source": [
    "Y_pred=gnb.predict(X_test_std)"
   ]
  },
  {
   "cell_type": "code",
   "execution_count": 36,
   "id": "ffdc87c5",
   "metadata": {},
   "outputs": [
    {
     "name": "stdout",
     "output_type": "stream",
     "text": [
      "Gaussian Naive Bayes model accuracy(in %): 70.59846903270703\n"
     ]
    }
   ],
   "source": [
    "from sklearn import metrics\n",
    "print(\"Gaussian Naive Bayes model accuracy(in %):\", metrics.accuracy_score(Y_test, Y_pred)*100)\n"
   ]
  },
  {
   "cell_type": "code",
   "execution_count": 37,
   "id": "13169a0b",
   "metadata": {},
   "outputs": [
    {
     "name": "stdout",
     "output_type": "stream",
     "text": [
      "              precision    recall  f1-score   support\n",
      "\n",
      "           0       0.94      0.44      0.60     10030\n",
      "           1       0.64      0.97      0.77     10088\n",
      "\n",
      "    accuracy                           0.71     20118\n",
      "   macro avg       0.79      0.71      0.68     20118\n",
      "weighted avg       0.79      0.71      0.68     20118\n",
      "\n"
     ]
    }
   ],
   "source": [
    "#Evaluation of the model \n",
    "\n",
    "from sklearn.metrics import classification_report, confusion_matrix\n",
    "print(classification_report(Y_test,Y_pred))"
   ]
  },
  {
   "cell_type": "code",
   "execution_count": 38,
   "id": "d47fac2d",
   "metadata": {},
   "outputs": [
    {
     "data": {
      "text/plain": [
       "array([[4397, 5633],\n",
       "       [ 282, 9806]], dtype=int64)"
      ]
     },
     "execution_count": 38,
     "metadata": {},
     "output_type": "execute_result"
    }
   ],
   "source": [
    "confusion_matrix(Y_test,Y_pred)"
   ]
  },
  {
   "cell_type": "code",
   "execution_count": 39,
   "id": "0c073b0a",
   "metadata": {},
   "outputs": [
    {
     "data": {
      "text/plain": [
       "Text(0.5, 1.0, 'Confusion Matrix')"
      ]
     },
     "execution_count": 39,
     "metadata": {},
     "output_type": "execute_result"
    },
    {
     "data": {
      "image/png": "[encoded data removed]",
      "text/plain": [
       "<Figure size 640x480 with 2 Axes>"
      ]
     },
     "metadata": {},
     "output_type": "display_data"
    }
   ],
   "source": [
    "cf_matrix = confusion_matrix(Y_test, Y_pred)\n",
    "plt.figure()\n",
    "sns.heatmap(cf_matrix, annot=True)\n",
    "plt.xlabel('Prediction')\n",
    "plt.ylabel('Target')\n",
    "plt.title('Confusion Matrix')\n",
    " \n",
    "  "
   ]
  },
  {
   "cell_type": "code",
   "execution_count": 40,
   "id": "84f33d28",
   "metadata": {},
   "outputs": [
    {
     "data": {
      "text/html": [
       "<style>#sk-container-id-2 {color: black;}#sk-container-id-2 pre{padding: 0;}#sk-container-id-2 div.sk-toggleable {background-color: white;}#sk-container-id-2 label.sk-toggleable__label {cursor: pointer;display: block;width: 100%;margin-bottom: 0;padding: 0.3em;box-sizing: border-box;text-align: center;}#sk-container-id-2 label.sk-toggleable__label-arrow:before {content: \"▸\";float: left;margin-right: 0.25em;color: #696969;}#sk-container-id-2 label.sk-toggleable__label-arrow:hover:before {color: black;}#sk-container-id-2 div.sk-estimator:hover label.sk-toggleable__label-arrow:before {color: black;}#sk-container-id-2 div.sk-toggleable__content {max-height: 0;max-width: 0;overflow: hidden;text-align: left;background-color: #f0f8ff;}#sk-container-id-2 div.sk-toggleable__content pre {margin: 0.2em;color: black;border-radius: 0.25em;background-color: #f0f8ff;}#sk-container-id-2 input.sk-toggleable__control:checked~div.sk-toggleable__content {max-height: 200px;max-width: 100%;overflow: auto;}#sk-container-id-2 input.sk-toggleable__control:checked~label.sk-toggleable__label-arrow:before {content: \"▾\";}#sk-container-id-2 div.sk-estimator input.sk-toggleable__control:checked~label.sk-toggleable__label {background-color: #d4ebff;}#sk-container-id-2 div.sk-label input.sk-toggleable__control:checked~label.sk-toggleable__label {background-color: #d4ebff;}#sk-container-id-2 input.sk-hidden--visually {border: 0;clip: rect(1px 1px 1px 1px);clip: rect(1px, 1px, 1px, 1px);height: 1px;margin: -1px;overflow: hidden;padding: 0;position: absolute;width: 1px;}#sk-container-id-2 div.sk-estimator {font-family: monospace;background-color: #f0f8ff;border: 1px dotted black;border-radius: 0.25em;box-sizing: border-box;margin-bottom: 0.5em;}#sk-container-id-2 div.sk-estimator:hover {background-color: #d4ebff;}#sk-container-id-2 div.sk-parallel-item::after {content: \"\";width: 100%;border-bottom: 1px solid gray;flex-grow: 1;}#sk-container-id-2 div.sk-label:hover label.sk-toggleable__label {background-color: #d4ebff;}#sk-container-id-2 div.sk-serial::before {content: \"\";position: absolute;border-left: 1px solid gray;box-sizing: border-box;top: 0;bottom: 0;left: 50%;z-index: 0;}#sk-container-id-2 div.sk-serial {display: flex;flex-direction: column;align-items: center;background-color: white;padding-right: 0.2em;padding-left: 0.2em;position: relative;}#sk-container-id-2 div.sk-item {position: relative;z-index: 1;}#sk-container-id-2 div.sk-parallel {display: flex;align-items: stretch;justify-content: center;background-color: white;position: relative;}#sk-container-id-2 div.sk-item::before, #sk-container-id-2 div.sk-parallel-item::before {content: \"\";position: absolute;border-left: 1px solid gray;box-sizing: border-box;top: 0;bottom: 0;left: 50%;z-index: -1;}#sk-container-id-2 div.sk-parallel-item {display: flex;flex-direction: column;z-index: 1;position: relative;background-color: white;}#sk-container-id-2 div.sk-parallel-item:first-child::after {align-self: flex-end;width: 50%;}#sk-container-id-2 div.sk-parallel-item:last-child::after {align-self: flex-start;width: 50%;}#sk-container-id-2 div.sk-parallel-item:only-child::after {width: 0;}#sk-container-id-2 div.sk-dashed-wrapped {border: 1px dashed gray;margin: 0 0.4em 0.5em 0.4em;box-sizing: border-box;padding-bottom: 0.4em;background-color: white;}#sk-container-id-2 div.sk-label label {font-family: monospace;font-weight: bold;display: inline-block;line-height: 1.2em;}#sk-container-id-2 div.sk-label-container {text-align: center;}#sk-container-id-2 div.sk-container {/* jupyter's `normalize.less` sets `[hidden] { display: none; }` but bootstrap.min.css set `[hidden] { display: none !important; }` so we also need the `!important` here to be able to override the default hidden behavior on the sphinx rendered scikit-learn.org. See: https://github.com/scikit-learn/scikit-learn/issues/21755 */display: inline-block !important;position: relative;}#sk-container-id-2 div.sk-text-repr-fallback {display: none;}</style><div id=\"sk-container-id-2\" class=\"sk-top-container\"><div class=\"sk-text-repr-fallback\"><pre>BernoulliNB()</pre><b>In a Jupyter environment, please rerun this cell to show the HTML representation or trust the notebook. <br />On GitHub, the HTML representation is unable to render, please try loading this page with nbviewer.org.</b></div><div class=\"sk-container\" hidden><div class=\"sk-item\"><div class=\"sk-estimator sk-toggleable\"><input class=\"sk-toggleable__control sk-hidden--visually\" id=\"sk-estimator-id-2\" type=\"checkbox\" checked><label for=\"sk-estimator-id-2\" class=\"sk-toggleable__label sk-toggleable__label-arrow\">BernoulliNB</label><div class=\"sk-toggleable__content\"><pre>BernoulliNB()</pre></div></div></div></div></div>"
      ],
      "text/plain": [
       "BernoulliNB()"
      ]
     },
     "execution_count": 40,
     "metadata": {},
     "output_type": "execute_result"
    }
   ],
   "source": [
    "from sklearn.naive_bayes import MultinomialNB \n",
    "from sklearn.naive_bayes import BernoulliNB\n",
    "\n",
    "# mnb=MultinomialNB()\n",
    "# mnb.fit(X_train_std,Y_train)\n",
    "\n",
    "# we can't implement mnb because it can't handle the negative values\n",
    "\n",
    "bnb=BernoulliNB()\n",
    "bnb.fit(X_train_std,Y_train)"
   ]
  },
  {
   "cell_type": "code",
   "execution_count": 41,
   "id": "aed8f9b1",
   "metadata": {},
   "outputs": [],
   "source": [
    "Y_pred=bnb.predict(X_test_std)"
   ]
  },
  {
   "cell_type": "code",
   "execution_count": 42,
   "id": "e8847e19",
   "metadata": {},
   "outputs": [
    {
     "name": "stdout",
     "output_type": "stream",
     "text": [
      "Bernoulli Naive Bayes model accuracy(in %): 80.10239586440005\n"
     ]
    }
   ],
   "source": [
    "from sklearn import metrics\n",
    "print(\"Bernoulli Naive Bayes model accuracy(in %):\", metrics.accuracy_score(Y_test, Y_pred)*100)\n"
   ]
  },
  {
   "cell_type": "code",
   "execution_count": 43,
   "id": "62d2a718",
   "metadata": {},
   "outputs": [
    {
     "name": "stdout",
     "output_type": "stream",
     "text": [
      "              precision    recall  f1-score   support\n",
      "\n",
      "           0       0.82      0.77      0.79     10030\n",
      "           1       0.79      0.83      0.81     10088\n",
      "\n",
      "    accuracy                           0.80     20118\n",
      "   macro avg       0.80      0.80      0.80     20118\n",
      "weighted avg       0.80      0.80      0.80     20118\n",
      "\n"
     ]
    }
   ],
   "source": [
    "#Evaluation of the model \n",
    "\n",
    "from sklearn.metrics import classification_report, confusion_matrix\n",
    "print(classification_report(Y_test,Y_pred))"
   ]
  },
  {
   "cell_type": "code",
   "execution_count": 44,
   "id": "91db9449",
   "metadata": {},
   "outputs": [
    {
     "data": {
      "text/plain": [
       "array([[7741, 2289],\n",
       "       [1714, 8374]], dtype=int64)"
      ]
     },
     "execution_count": 44,
     "metadata": {},
     "output_type": "execute_result"
    }
   ],
   "source": [
    "confusion_matrix(Y_test,Y_pred)"
   ]
  },
  {
   "cell_type": "code",
   "execution_count": 45,
   "id": "3531155c",
   "metadata": {},
   "outputs": [
    {
     "data": {
      "text/plain": [
       "Text(0.5, 1.0, 'Confusion Matrix')"
      ]
     },
     "execution_count": 45,
     "metadata": {},
     "output_type": "execute_result"
    },
    {
     "data": {
      "image/png": "[encoded data removed]",
      "text/plain": [
       "<Figure size 640x480 with 2 Axes>"
      ]
     },
     "metadata": {},
     "output_type": "display_data"
    }
   ],
   "source": [
    "cf_matrix = confusion_matrix(Y_test, Y_pred)\n",
    "plt.figure()\n",
    "sns.heatmap(cf_matrix, annot=True)\n",
    "plt.xlabel('Prediction')\n",
    "plt.ylabel('Target')\n",
    "plt.title('Confusion Matrix')"
   ]
  },
  {
   "cell_type": "markdown",
   "id": "e85bec52",
   "metadata": {},
   "source": [
    "## Logistic Regression Model \n"
   ]
  },
  {
   "cell_type": "code",
   "execution_count": 46,
   "id": "00c4f1a9",
   "metadata": {},
   "outputs": [],
   "source": [
    "from sklearn.linear_model import LogisticRegression"
   ]
  },
  {
   "cell_type": "code",
   "execution_count": 47,
   "id": "172532fc",
   "metadata": {},
   "outputs": [],
   "source": [
    "lgmodel=LogisticRegression()"
   ]
  },
  {
   "cell_type": "code",
   "execution_count": 48,
   "id": "05aa3208",
   "metadata": {},
   "outputs": [
    {
     "data": {
      "text/html": [
       "<style>#sk-container-id-3 {color: black;}#sk-container-id-3 pre{padding: 0;}#sk-container-id-3 div.sk-toggleable {background-color: white;}#sk-container-id-3 label.sk-toggleable__label {cursor: pointer;display: block;width: 100%;margin-bottom: 0;padding: 0.3em;box-sizing: border-box;text-align: center;}#sk-container-id-3 label.sk-toggleable__label-arrow:before {content: \"▸\";float: left;margin-right: 0.25em;color: #696969;}#sk-container-id-3 label.sk-toggleable__label-arrow:hover:before {color: black;}#sk-container-id-3 div.sk-estimator:hover label.sk-toggleable__label-arrow:before {color: black;}#sk-container-id-3 div.sk-toggleable__content {max-height: 0;max-width: 0;overflow: hidden;text-align: left;background-color: #f0f8ff;}#sk-container-id-3 div.sk-toggleable__content pre {margin: 0.2em;color: black;border-radius: 0.25em;background-color: #f0f8ff;}#sk-container-id-3 input.sk-toggleable__control:checked~div.sk-toggleable__content {max-height: 200px;max-width: 100%;overflow: auto;}#sk-container-id-3 input.sk-toggleable__control:checked~label.sk-toggleable__label-arrow:before {content: \"▾\";}#sk-container-id-3 div.sk-estimator input.sk-toggleable__control:checked~label.sk-toggleable__label {background-color: #d4ebff;}#sk-container-id-3 div.sk-label input.sk-toggleable__control:checked~label.sk-toggleable__label {background-color: #d4ebff;}#sk-container-id-3 input.sk-hidden--visually {border: 0;clip: rect(1px 1px 1px 1px);clip: rect(1px, 1px, 1px, 1px);height: 1px;margin: -1px;overflow: hidden;padding: 0;position: absolute;width: 1px;}#sk-container-id-3 div.sk-estimator {font-family: monospace;background-color: #f0f8ff;border: 1px dotted black;border-radius: 0.25em;box-sizing: border-box;margin-bottom: 0.5em;}#sk-container-id-3 div.sk-estimator:hover {background-color: #d4ebff;}#sk-container-id-3 div.sk-parallel-item::after {content: \"\";width: 100%;border-bottom: 1px solid gray;flex-grow: 1;}#sk-container-id-3 div.sk-label:hover label.sk-toggleable__label {background-color: #d4ebff;}#sk-container-id-3 div.sk-serial::before {content: \"\";position: absolute;border-left: 1px solid gray;box-sizing: border-box;top: 0;bottom: 0;left: 50%;z-index: 0;}#sk-container-id-3 div.sk-serial {display: flex;flex-direction: column;align-items: center;background-color: white;padding-right: 0.2em;padding-left: 0.2em;position: relative;}#sk-container-id-3 div.sk-item {position: relative;z-index: 1;}#sk-container-id-3 div.sk-parallel {display: flex;align-items: stretch;justify-content: center;background-color: white;position: relative;}#sk-container-id-3 div.sk-item::before, #sk-container-id-3 div.sk-parallel-item::before {content: \"\";position: absolute;border-left: 1px solid gray;box-sizing: border-box;top: 0;bottom: 0;left: 50%;z-index: -1;}#sk-container-id-3 div.sk-parallel-item {display: flex;flex-direction: column;z-index: 1;position: relative;background-color: white;}#sk-container-id-3 div.sk-parallel-item:first-child::after {align-self: flex-end;width: 50%;}#sk-container-id-3 div.sk-parallel-item:last-child::after {align-self: flex-start;width: 50%;}#sk-container-id-3 div.sk-parallel-item:only-child::after {width: 0;}#sk-container-id-3 div.sk-dashed-wrapped {border: 1px dashed gray;margin: 0 0.4em 0.5em 0.4em;box-sizing: border-box;padding-bottom: 0.4em;background-color: white;}#sk-container-id-3 div.sk-label label {font-family: monospace;font-weight: bold;display: inline-block;line-height: 1.2em;}#sk-container-id-3 div.sk-label-container {text-align: center;}#sk-container-id-3 div.sk-container {/* jupyter's `normalize.less` sets `[hidden] { display: none; }` but bootstrap.min.css set `[hidden] { display: none !important; }` so we also need the `!important` here to be able to override the default hidden behavior on the sphinx rendered scikit-learn.org. See: https://github.com/scikit-learn/scikit-learn/issues/21755 */display: inline-block !important;position: relative;}#sk-container-id-3 div.sk-text-repr-fallback {display: none;}</style><div id=\"sk-container-id-3\" class=\"sk-top-container\"><div class=\"sk-text-repr-fallback\"><pre>LogisticRegression()</pre><b>In a Jupyter environment, please rerun this cell to show the HTML representation or trust the notebook. <br />On GitHub, the HTML representation is unable to render, please try loading this page with nbviewer.org.</b></div><div class=\"sk-container\" hidden><div class=\"sk-item\"><div class=\"sk-estimator sk-toggleable\"><input class=\"sk-toggleable__control sk-hidden--visually\" id=\"sk-estimator-id-3\" type=\"checkbox\" checked><label for=\"sk-estimator-id-3\" class=\"sk-toggleable__label sk-toggleable__label-arrow\">LogisticRegression</label><div class=\"sk-toggleable__content\"><pre>LogisticRegression()</pre></div></div></div></div></div>"
      ],
      "text/plain": [
       "LogisticRegression()"
      ]
     },
     "execution_count": 48,
     "metadata": {},
     "output_type": "execute_result"
    }
   ],
   "source": [
    "lgmodel.fit(X_train_std,Y_train)"
   ]
  },
  {
   "cell_type": "code",
   "execution_count": 49,
   "id": "63f941dd",
   "metadata": {},
   "outputs": [],
   "source": [
    "y_pred=lgmodel.predict(X_test_std)"
   ]
  },
  {
   "cell_type": "code",
   "execution_count": 50,
   "id": "bd55c4cc",
   "metadata": {},
   "outputs": [
    {
     "data": {
      "text/plain": [
       "array([1, 0, 0, 1, 0], dtype=int64)"
      ]
     },
     "execution_count": 50,
     "metadata": {},
     "output_type": "execute_result"
    }
   ],
   "source": [
    "y_pred[:5]"
   ]
  },
  {
   "cell_type": "code",
   "execution_count": 51,
   "id": "b9a0c3fb",
   "metadata": {},
   "outputs": [
    {
     "data": {
      "text/plain": [
       "47721    1\n",
       "5067     0\n",
       "59447    0\n",
       "46473    1\n",
       "65245    0\n",
       "Name: LoanStatus, dtype: int64"
      ]
     },
     "execution_count": 51,
     "metadata": {},
     "output_type": "execute_result"
    }
   ],
   "source": [
    "Y_test[:5]"
   ]
  },
  {
   "cell_type": "markdown",
   "id": "2dadb531",
   "metadata": {},
   "source": [
    "## Evaluation"
   ]
  },
  {
   "cell_type": "code",
   "execution_count": 52,
   "id": "b433fb4f",
   "metadata": {},
   "outputs": [],
   "source": [
    "from sklearn.metrics import classification_report"
   ]
  },
  {
   "cell_type": "code",
   "execution_count": 53,
   "id": "424568b0",
   "metadata": {},
   "outputs": [
    {
     "name": "stdout",
     "output_type": "stream",
     "text": [
      "              precision    recall  f1-score   support\n",
      "\n",
      "           0       1.00      0.97      0.99     10030\n",
      "           1       0.97      1.00      0.99     10088\n",
      "\n",
      "    accuracy                           0.99     20118\n",
      "   macro avg       0.99      0.99      0.99     20118\n",
      "weighted avg       0.99      0.99      0.99     20118\n",
      "\n"
     ]
    }
   ],
   "source": [
    "print(classification_report(Y_test,y_pred))"
   ]
  },
  {
   "cell_type": "code",
   "execution_count": 54,
   "id": "c190d71a",
   "metadata": {},
   "outputs": [
    {
     "name": "stdout",
     "output_type": "stream",
     "text": [
      "Accuracy: 0.9861815289790238\n"
     ]
    }
   ],
   "source": [
    "accuracy = lgmodel.score(X_test_std, Y_test)\n",
    "print(f\"Accuracy: {accuracy}\")"
   ]
  },
  {
   "cell_type": "code",
   "execution_count": 55,
   "id": "6de90206",
   "metadata": {},
   "outputs": [
    {
     "data": {
      "text/plain": [
       "Text(0.5, 1.0, 'Confusion Matrix')"
      ]
     },
     "execution_count": 55,
     "metadata": {},
     "output_type": "execute_result"
    },
    {
     "data": {
      "image/png": "[encoded data removed]",
      "text/plain": [
       "<Figure size 640x480 with 2 Axes>"
      ]
     },
     "metadata": {},
     "output_type": "display_data"
    }
   ],
   "source": [
    "cf_matrix = confusion_matrix(Y_test, y_pred)\n",
    "plt.figure()\n",
    "sns.heatmap(cf_matrix, annot=True)\n",
    "plt.xlabel('Prediction')\n",
    "plt.ylabel('Target')\n",
    "plt.title('Confusion Matrix')"
   ]
  },
  {
   "cell_type": "markdown",
   "id": "7bea8e64",
   "metadata": {},
   "source": [
    "## Pipeline for Naive Baye's Algorithm "
   ]
  },
  {
   "cell_type": "markdown",
   "id": "340cd82f",
   "metadata": {},
   "source": [
    "#### Importing of the libraries"
   ]
  },
  {
   "cell_type": "code",
   "execution_count": 56,
   "id": "7501c0f1",
   "metadata": {},
   "outputs": [],
   "source": [
    "from sklearn.pipeline import Pipeline\n",
    "from imblearn.over_sampling import SMOTE \n",
    "from sklearn.model_selection import train_test_split\n",
    "from sklearn.decomposition import PCA\n",
    "from sklearn.preprocessing import StandardScaler\n",
    "from sklearn.metrics import classification_report, confusion_matrix\n",
    "from sklearn.naive_bayes import BernoulliNB\n",
    "\n",
    "from sklearn import set_config"
   ]
  },
  {
   "cell_type": "code",
   "execution_count": 57,
   "id": "ed75fbf5",
   "metadata": {},
   "outputs": [],
   "source": [
    "# These are the estimators for the pipeline \n",
    "pca = PCA(n_components=15)\n",
    "scaler = StandardScaler()\n",
    "\n",
    "#this is the final estimator of my pipeline \n",
    "bnb=BernoulliNB()"
   ]
  },
  {
   "cell_type": "code",
   "execution_count": 58,
   "id": "ed4992f9",
   "metadata": {},
   "outputs": [],
   "source": [
    "X_train, X_test, Y_train, Y_test = train_test_split(X, y, test_size=0.30, random_state=100)"
   ]
  },
  {
   "cell_type": "markdown",
   "id": "f677d4e3",
   "metadata": {},
   "source": [
    "#### Creation of Pipe"
   ]
  },
  {
   "cell_type": "code",
   "execution_count": 59,
   "id": "52bd5a9e",
   "metadata": {},
   "outputs": [],
   "source": [
    "naive_bayes_model_pipe=Pipeline([\n",
    "    (\"scaler\",scaler),\n",
    "    (\"pca\",pca),\n",
    "    (\"bnb\",bnb)\n",
    "])"
   ]
  },
  {
   "cell_type": "code",
   "execution_count": 60,
   "id": "45e90eed",
   "metadata": {},
   "outputs": [],
   "source": [
    "set_config(display=\"diagram\")"
   ]
  },
  {
   "cell_type": "markdown",
   "id": "dbbcc928",
   "metadata": {},
   "source": [
    "##### Structure of pipeline in diagramatic manner "
   ]
  },
  {
   "cell_type": "code",
   "execution_count": 61,
   "id": "343f2d64",
   "metadata": {},
   "outputs": [
    {
     "data": {
      "text/html": [
       "<style>#sk-container-id-4 {color: black;}#sk-container-id-4 pre{padding: 0;}#sk-container-id-4 div.sk-toggleable {background-color: white;}#sk-container-id-4 label.sk-toggleable__label {cursor: pointer;display: block;width: 100%;margin-bottom: 0;padding: 0.3em;box-sizing: border-box;text-align: center;}#sk-container-id-4 label.sk-toggleable__label-arrow:before {content: \"▸\";float: left;margin-right: 0.25em;color: #696969;}#sk-container-id-4 label.sk-toggleable__label-arrow:hover:before {color: black;}#sk-container-id-4 div.sk-estimator:hover label.sk-toggleable__label-arrow:before {color: black;}#sk-container-id-4 div.sk-toggleable__content {max-height: 0;max-width: 0;overflow: hidden;text-align: left;background-color: #f0f8ff;}#sk-container-id-4 div.sk-toggleable__content pre {margin: 0.2em;color: black;border-radius: 0.25em;background-color: #f0f8ff;}#sk-container-id-4 input.sk-toggleable__control:checked~div.sk-toggleable__content {max-height: 200px;max-width: 100%;overflow: auto;}#sk-container-id-4 input.sk-toggleable__control:checked~label.sk-toggleable__label-arrow:before {content: \"▾\";}#sk-container-id-4 div.sk-estimator input.sk-toggleable__control:checked~label.sk-toggleable__label {background-color: #d4ebff;}#sk-container-id-4 div.sk-label input.sk-toggleable__control:checked~label.sk-toggleable__label {background-color: #d4ebff;}#sk-container-id-4 input.sk-hidden--visually {border: 0;clip: rect(1px 1px 1px 1px);clip: rect(1px, 1px, 1px, 1px);height: 1px;margin: -1px;overflow: hidden;padding: 0;position: absolute;width: 1px;}#sk-container-id-4 div.sk-estimator {font-family: monospace;background-color: #f0f8ff;border: 1px dotted black;border-radius: 0.25em;box-sizing: border-box;margin-bottom: 0.5em;}#sk-container-id-4 div.sk-estimator:hover {background-color: #d4ebff;}#sk-container-id-4 div.sk-parallel-item::after {content: \"\";width: 100%;border-bottom: 1px solid gray;flex-grow: 1;}#sk-container-id-4 div.sk-label:hover label.sk-toggleable__label {background-color: #d4ebff;}#sk-container-id-4 div.sk-serial::before {content: \"\";position: absolute;border-left: 1px solid gray;box-sizing: border-box;top: 0;bottom: 0;left: 50%;z-index: 0;}#sk-container-id-4 div.sk-serial {display: flex;flex-direction: column;align-items: center;background-color: white;padding-right: 0.2em;padding-left: 0.2em;position: relative;}#sk-container-id-4 div.sk-item {position: relative;z-index: 1;}#sk-container-id-4 div.sk-parallel {display: flex;align-items: stretch;justify-content: center;background-color: white;position: relative;}#sk-container-id-4 div.sk-item::before, #sk-container-id-4 div.sk-parallel-item::before {content: \"\";position: absolute;border-left: 1px solid gray;box-sizing: border-box;top: 0;bottom: 0;left: 50%;z-index: -1;}#sk-container-id-4 div.sk-parallel-item {display: flex;flex-direction: column;z-index: 1;position: relative;background-color: white;}#sk-container-id-4 div.sk-parallel-item:first-child::after {align-self: flex-end;width: 50%;}#sk-container-id-4 div.sk-parallel-item:last-child::after {align-self: flex-start;width: 50%;}#sk-container-id-4 div.sk-parallel-item:only-child::after {width: 0;}#sk-container-id-4 div.sk-dashed-wrapped {border: 1px dashed gray;margin: 0 0.4em 0.5em 0.4em;box-sizing: border-box;padding-bottom: 0.4em;background-color: white;}#sk-container-id-4 div.sk-label label {font-family: monospace;font-weight: bold;display: inline-block;line-height: 1.2em;}#sk-container-id-4 div.sk-label-container {text-align: center;}#sk-container-id-4 div.sk-container {/* jupyter's `normalize.less` sets `[hidden] { display: none; }` but bootstrap.min.css set `[hidden] { display: none !important; }` so we also need the `!important` here to be able to override the default hidden behavior on the sphinx rendered scikit-learn.org. See: https://github.com/scikit-learn/scikit-learn/issues/21755 */display: inline-block !important;position: relative;}#sk-container-id-4 div.sk-text-repr-fallback {display: none;}</style><div id=\"sk-container-id-4\" class=\"sk-top-container\"><div class=\"sk-text-repr-fallback\"><pre>Pipeline(steps=[(&#x27;scaler&#x27;, StandardScaler()), (&#x27;pca&#x27;, PCA(n_components=15)),\n",
       "                (&#x27;bnb&#x27;, BernoulliNB())])</pre><b>In a Jupyter environment, please rerun this cell to show the HTML representation or trust the notebook. <br />On GitHub, the HTML representation is unable to render, please try loading this page with nbviewer.org.</b></div><div class=\"sk-container\" hidden><div class=\"sk-item sk-dashed-wrapped\"><div class=\"sk-label-container\"><div class=\"sk-label sk-toggleable\"><input class=\"sk-toggleable__control sk-hidden--visually\" id=\"sk-estimator-id-4\" type=\"checkbox\" ><label for=\"sk-estimator-id-4\" class=\"sk-toggleable__label sk-toggleable__label-arrow\">Pipeline</label><div class=\"sk-toggleable__content\"><pre>Pipeline(steps=[(&#x27;scaler&#x27;, StandardScaler()), (&#x27;pca&#x27;, PCA(n_components=15)),\n",
       "                (&#x27;bnb&#x27;, BernoulliNB())])</pre></div></div></div><div class=\"sk-serial\"><div class=\"sk-item\"><div class=\"sk-estimator sk-toggleable\"><input class=\"sk-toggleable__control sk-hidden--visually\" id=\"sk-estimator-id-5\" type=\"checkbox\" ><label for=\"sk-estimator-id-5\" class=\"sk-toggleable__label sk-toggleable__label-arrow\">StandardScaler</label><div class=\"sk-toggleable__content\"><pre>StandardScaler()</pre></div></div></div><div class=\"sk-item\"><div class=\"sk-estimator sk-toggleable\"><input class=\"sk-toggleable__control sk-hidden--visually\" id=\"sk-estimator-id-6\" type=\"checkbox\" ><label for=\"sk-estimator-id-6\" class=\"sk-toggleable__label sk-toggleable__label-arrow\">PCA</label><div class=\"sk-toggleable__content\"><pre>PCA(n_components=15)</pre></div></div></div><div class=\"sk-item\"><div class=\"sk-estimator sk-toggleable\"><input class=\"sk-toggleable__control sk-hidden--visually\" id=\"sk-estimator-id-7\" type=\"checkbox\" ><label for=\"sk-estimator-id-7\" class=\"sk-toggleable__label sk-toggleable__label-arrow\">BernoulliNB</label><div class=\"sk-toggleable__content\"><pre>BernoulliNB()</pre></div></div></div></div></div></div></div>"
      ],
      "text/plain": [
       "Pipeline(steps=[('scaler', StandardScaler()), ('pca', PCA(n_components=15)),\n",
       "                ('bnb', BernoulliNB())])"
      ]
     },
     "execution_count": 61,
     "metadata": {},
     "output_type": "execute_result"
    }
   ],
   "source": [
    "naive_bayes_model_pipe"
   ]
  },
  {
   "cell_type": "markdown",
   "id": "1324059f",
   "metadata": {},
   "source": [
    "****Fitting of the pipeline model****"
   ]
  },
  {
   "cell_type": "code",
   "execution_count": 62,
   "id": "7e1c7bd0",
   "metadata": {},
   "outputs": [
    {
     "data": {
      "text/html": [
       "<style>#sk-container-id-5 {color: black;}#sk-container-id-5 pre{padding: 0;}#sk-container-id-5 div.sk-toggleable {background-color: white;}#sk-container-id-5 label.sk-toggleable__label {cursor: pointer;display: block;width: 100%;margin-bottom: 0;padding: 0.3em;box-sizing: border-box;text-align: center;}#sk-container-id-5 label.sk-toggleable__label-arrow:before {content: \"▸\";float: left;margin-right: 0.25em;color: #696969;}#sk-container-id-5 label.sk-toggleable__label-arrow:hover:before {color: black;}#sk-container-id-5 div.sk-estimator:hover label.sk-toggleable__label-arrow:before {color: black;}#sk-container-id-5 div.sk-toggleable__content {max-height: 0;max-width: 0;overflow: hidden;text-align: left;background-color: #f0f8ff;}#sk-container-id-5 div.sk-toggleable__content pre {margin: 0.2em;color: black;border-radius: 0.25em;background-color: #f0f8ff;}#sk-container-id-5 input.sk-toggleable__control:checked~div.sk-toggleable__content {max-height: 200px;max-width: 100%;overflow: auto;}#sk-container-id-5 input.sk-toggleable__control:checked~label.sk-toggleable__label-arrow:before {content: \"▾\";}#sk-container-id-5 div.sk-estimator input.sk-toggleable__control:checked~label.sk-toggleable__label {background-color: #d4ebff;}#sk-container-id-5 div.sk-label input.sk-toggleable__control:checked~label.sk-toggleable__label {background-color: #d4ebff;}#sk-container-id-5 input.sk-hidden--visually {border: 0;clip: rect(1px 1px 1px 1px);clip: rect(1px, 1px, 1px, 1px);height: 1px;margin: -1px;overflow: hidden;padding: 0;position: absolute;width: 1px;}#sk-container-id-5 div.sk-estimator {font-family: monospace;background-color: #f0f8ff;border: 1px dotted black;border-radius: 0.25em;box-sizing: border-box;margin-bottom: 0.5em;}#sk-container-id-5 div.sk-estimator:hover {background-color: #d4ebff;}#sk-container-id-5 div.sk-parallel-item::after {content: \"\";width: 100%;border-bottom: 1px solid gray;flex-grow: 1;}#sk-container-id-5 div.sk-label:hover label.sk-toggleable__label {background-color: #d4ebff;}#sk-container-id-5 div.sk-serial::before {content: \"\";position: absolute;border-left: 1px solid gray;box-sizing: border-box;top: 0;bottom: 0;left: 50%;z-index: 0;}#sk-container-id-5 div.sk-serial {display: flex;flex-direction: column;align-items: center;background-color: white;padding-right: 0.2em;padding-left: 0.2em;position: relative;}#sk-container-id-5 div.sk-item {position: relative;z-index: 1;}#sk-container-id-5 div.sk-parallel {display: flex;align-items: stretch;justify-content: center;background-color: white;position: relative;}#sk-container-id-5 div.sk-item::before, #sk-container-id-5 div.sk-parallel-item::before {content: \"\";position: absolute;border-left: 1px solid gray;box-sizing: border-box;top: 0;bottom: 0;left: 50%;z-index: -1;}#sk-container-id-5 div.sk-parallel-item {display: flex;flex-direction: column;z-index: 1;position: relative;background-color: white;}#sk-container-id-5 div.sk-parallel-item:first-child::after {align-self: flex-end;width: 50%;}#sk-container-id-5 div.sk-parallel-item:last-child::after {align-self: flex-start;width: 50%;}#sk-container-id-5 div.sk-parallel-item:only-child::after {width: 0;}#sk-container-id-5 div.sk-dashed-wrapped {border: 1px dashed gray;margin: 0 0.4em 0.5em 0.4em;box-sizing: border-box;padding-bottom: 0.4em;background-color: white;}#sk-container-id-5 div.sk-label label {font-family: monospace;font-weight: bold;display: inline-block;line-height: 1.2em;}#sk-container-id-5 div.sk-label-container {text-align: center;}#sk-container-id-5 div.sk-container {/* jupyter's `normalize.less` sets `[hidden] { display: none; }` but bootstrap.min.css set `[hidden] { display: none !important; }` so we also need the `!important` here to be able to override the default hidden behavior on the sphinx rendered scikit-learn.org. See: https://github.com/scikit-learn/scikit-learn/issues/21755 */display: inline-block !important;position: relative;}#sk-container-id-5 div.sk-text-repr-fallback {display: none;}</style><div id=\"sk-container-id-5\" class=\"sk-top-container\"><div class=\"sk-text-repr-fallback\"><pre>Pipeline(steps=[(&#x27;scaler&#x27;, StandardScaler()), (&#x27;pca&#x27;, PCA(n_components=15)),\n",
       "                (&#x27;bnb&#x27;, BernoulliNB())])</pre><b>In a Jupyter environment, please rerun this cell to show the HTML representation or trust the notebook. <br />On GitHub, the HTML representation is unable to render, please try loading this page with nbviewer.org.</b></div><div class=\"sk-container\" hidden><div class=\"sk-item sk-dashed-wrapped\"><div class=\"sk-label-container\"><div class=\"sk-label sk-toggleable\"><input class=\"sk-toggleable__control sk-hidden--visually\" id=\"sk-estimator-id-8\" type=\"checkbox\" ><label for=\"sk-estimator-id-8\" class=\"sk-toggleable__label sk-toggleable__label-arrow\">Pipeline</label><div class=\"sk-toggleable__content\"><pre>Pipeline(steps=[(&#x27;scaler&#x27;, StandardScaler()), (&#x27;pca&#x27;, PCA(n_components=15)),\n",
       "                (&#x27;bnb&#x27;, BernoulliNB())])</pre></div></div></div><div class=\"sk-serial\"><div class=\"sk-item\"><div class=\"sk-estimator sk-toggleable\"><input class=\"sk-toggleable__control sk-hidden--visually\" id=\"sk-estimator-id-9\" type=\"checkbox\" ><label for=\"sk-estimator-id-9\" class=\"sk-toggleable__label sk-toggleable__label-arrow\">StandardScaler</label><div class=\"sk-toggleable__content\"><pre>StandardScaler()</pre></div></div></div><div class=\"sk-item\"><div class=\"sk-estimator sk-toggleable\"><input class=\"sk-toggleable__control sk-hidden--visually\" id=\"sk-estimator-id-10\" type=\"checkbox\" ><label for=\"sk-estimator-id-10\" class=\"sk-toggleable__label sk-toggleable__label-arrow\">PCA</label><div class=\"sk-toggleable__content\"><pre>PCA(n_components=15)</pre></div></div></div><div class=\"sk-item\"><div class=\"sk-estimator sk-toggleable\"><input class=\"sk-toggleable__control sk-hidden--visually\" id=\"sk-estimator-id-11\" type=\"checkbox\" ><label for=\"sk-estimator-id-11\" class=\"sk-toggleable__label sk-toggleable__label-arrow\">BernoulliNB</label><div class=\"sk-toggleable__content\"><pre>BernoulliNB()</pre></div></div></div></div></div></div></div>"
      ],
      "text/plain": [
       "Pipeline(steps=[('scaler', StandardScaler()), ('pca', PCA(n_components=15)),\n",
       "                ('bnb', BernoulliNB())])"
      ]
     },
     "execution_count": 62,
     "metadata": {},
     "output_type": "execute_result"
    }
   ],
   "source": [
    "naive_bayes_model_pipe.fit(X_train,Y_train)"
   ]
  },
  {
   "cell_type": "code",
   "execution_count": 63,
   "id": "902f9f7e",
   "metadata": {},
   "outputs": [],
   "source": [
    "Y_pred=naive_bayes_model_pipe.predict(X_test)"
   ]
  },
  {
   "cell_type": "code",
   "execution_count": 64,
   "id": "da4fc8f9",
   "metadata": {},
   "outputs": [
    {
     "data": {
      "text/plain": [
       "47721    1\n",
       "5067     0\n",
       "59447    0\n",
       "46473    1\n",
       "65245    0\n",
       "Name: LoanStatus, dtype: int64"
      ]
     },
     "execution_count": 64,
     "metadata": {},
     "output_type": "execute_result"
    }
   ],
   "source": [
    "Y_test[:5]"
   ]
  },
  {
   "cell_type": "code",
   "execution_count": 65,
   "id": "ac2f2549",
   "metadata": {},
   "outputs": [
    {
     "data": {
      "text/plain": [
       "array([0, 0, 0, 1, 0], dtype=int64)"
      ]
     },
     "execution_count": 65,
     "metadata": {},
     "output_type": "execute_result"
    }
   ],
   "source": [
    "Y_pred[:5]"
   ]
  },
  {
   "cell_type": "code",
   "execution_count": 66,
   "id": "388e9bb6",
   "metadata": {},
   "outputs": [
    {
     "name": "stdout",
     "output_type": "stream",
     "text": [
      "test accuracy =  80.75 %\n"
     ]
    }
   ],
   "source": [
    "print('test accuracy = ', round(accuracy_score(Y_test, Y_pred)*100, 2), '%')"
   ]
  },
  {
   "cell_type": "markdown",
   "id": "9e893c2f",
   "metadata": {},
   "source": [
    "**The Accuracy of the Naive Baye's Model using Pipeline is 86.71%\"**"
   ]
  },
  {
   "cell_type": "code",
   "execution_count": 67,
   "id": "04d7b771",
   "metadata": {},
   "outputs": [
    {
     "name": "stdout",
     "output_type": "stream",
     "text": [
      "              precision    recall  f1-score   support\n",
      "\n",
      "           0      0.820     0.786     0.803     10030\n",
      "           1      0.796     0.829     0.812     10088\n",
      "\n",
      "    accuracy                          0.808     20118\n",
      "   macro avg      0.808     0.807     0.807     20118\n",
      "weighted avg      0.808     0.808     0.807     20118\n",
      "\n"
     ]
    }
   ],
   "source": [
    "print(classification_report(Y_test, Y_pred, digits=3))"
   ]
  },
  {
   "cell_type": "code",
   "execution_count": 68,
   "id": "0407316e",
   "metadata": {},
   "outputs": [
    {
     "data": {
      "text/plain": [
       "Text(0.5, 1.0, 'Confusion Matrix')"
      ]
     },
     "execution_count": 68,
     "metadata": {},
     "output_type": "execute_result"
    },
    {
     "data": {
      "image/png": "[encoded data removed]",
      "text/plain": [
       "<Figure size 640x480 with 2 Axes>"
      ]
     },
     "metadata": {},
     "output_type": "display_data"
    }
   ],
   "source": [
    "cf_matrix = confusion_matrix(Y_test, Y_pred)\n",
    "plt.figure()\n",
    "sns.heatmap(cf_matrix, annot=True)\n",
    "plt.xlabel('Prediction')\n",
    "plt.ylabel('Target')\n",
    "plt.title('Confusion Matrix')"
   ]
  },
  {
   "cell_type": "markdown",
   "id": "4cebb3ce",
   "metadata": {},
   "source": [
    "## Pipeline for Logistic Regression Model"
   ]
  },
  {
   "cell_type": "code",
   "execution_count": 69,
   "id": "f66f31d9",
   "metadata": {},
   "outputs": [],
   "source": [
    "lg_model_pipeline=Pipeline([\n",
    "    (\"scaler\",scaler),\n",
    "    (\"pca\",pca),\n",
    "    (\"lgmodel\",lgmodel)\n",
    "])"
   ]
  },
  {
   "cell_type": "code",
   "execution_count": 70,
   "id": "c34ecf24",
   "metadata": {},
   "outputs": [
    {
     "data": {
      "text/html": [
       "<style>#sk-container-id-6 {color: black;}#sk-container-id-6 pre{padding: 0;}#sk-container-id-6 div.sk-toggleable {background-color: white;}#sk-container-id-6 label.sk-toggleable__label {cursor: pointer;display: block;width: 100%;margin-bottom: 0;padding: 0.3em;box-sizing: border-box;text-align: center;}#sk-container-id-6 label.sk-toggleable__label-arrow:before {content: \"▸\";float: left;margin-right: 0.25em;color: #696969;}#sk-container-id-6 label.sk-toggleable__label-arrow:hover:before {color: black;}#sk-container-id-6 div.sk-estimator:hover label.sk-toggleable__label-arrow:before {color: black;}#sk-container-id-6 div.sk-toggleable__content {max-height: 0;max-width: 0;overflow: hidden;text-align: left;background-color: #f0f8ff;}#sk-container-id-6 div.sk-toggleable__content pre {margin: 0.2em;color: black;border-radius: 0.25em;background-color: #f0f8ff;}#sk-container-id-6 input.sk-toggleable__control:checked~div.sk-toggleable__content {max-height: 200px;max-width: 100%;overflow: auto;}#sk-container-id-6 input.sk-toggleable__control:checked~label.sk-toggleable__label-arrow:before {content: \"▾\";}#sk-container-id-6 div.sk-estimator input.sk-toggleable__control:checked~label.sk-toggleable__label {background-color: #d4ebff;}#sk-container-id-6 div.sk-label input.sk-toggleable__control:checked~label.sk-toggleable__label {background-color: #d4ebff;}#sk-container-id-6 input.sk-hidden--visually {border: 0;clip: rect(1px 1px 1px 1px);clip: rect(1px, 1px, 1px, 1px);height: 1px;margin: -1px;overflow: hidden;padding: 0;position: absolute;width: 1px;}#sk-container-id-6 div.sk-estimator {font-family: monospace;background-color: #f0f8ff;border: 1px dotted black;border-radius: 0.25em;box-sizing: border-box;margin-bottom: 0.5em;}#sk-container-id-6 div.sk-estimator:hover {background-color: #d4ebff;}#sk-container-id-6 div.sk-parallel-item::after {content: \"\";width: 100%;border-bottom: 1px solid gray;flex-grow: 1;}#sk-container-id-6 div.sk-label:hover label.sk-toggleable__label {background-color: #d4ebff;}#sk-container-id-6 div.sk-serial::before {content: \"\";position: absolute;border-left: 1px solid gray;box-sizing: border-box;top: 0;bottom: 0;left: 50%;z-index: 0;}#sk-container-id-6 div.sk-serial {display: flex;flex-direction: column;align-items: center;background-color: white;padding-right: 0.2em;padding-left: 0.2em;position: relative;}#sk-container-id-6 div.sk-item {position: relative;z-index: 1;}#sk-container-id-6 div.sk-parallel {display: flex;align-items: stretch;justify-content: center;background-color: white;position: relative;}#sk-container-id-6 div.sk-item::before, #sk-container-id-6 div.sk-parallel-item::before {content: \"\";position: absolute;border-left: 1px solid gray;box-sizing: border-box;top: 0;bottom: 0;left: 50%;z-index: -1;}#sk-container-id-6 div.sk-parallel-item {display: flex;flex-direction: column;z-index: 1;position: relative;background-color: white;}#sk-container-id-6 div.sk-parallel-item:first-child::after {align-self: flex-end;width: 50%;}#sk-container-id-6 div.sk-parallel-item:last-child::after {align-self: flex-start;width: 50%;}#sk-container-id-6 div.sk-parallel-item:only-child::after {width: 0;}#sk-container-id-6 div.sk-dashed-wrapped {border: 1px dashed gray;margin: 0 0.4em 0.5em 0.4em;box-sizing: border-box;padding-bottom: 0.4em;background-color: white;}#sk-container-id-6 div.sk-label label {font-family: monospace;font-weight: bold;display: inline-block;line-height: 1.2em;}#sk-container-id-6 div.sk-label-container {text-align: center;}#sk-container-id-6 div.sk-container {/* jupyter's `normalize.less` sets `[hidden] { display: none; }` but bootstrap.min.css set `[hidden] { display: none !important; }` so we also need the `!important` here to be able to override the default hidden behavior on the sphinx rendered scikit-learn.org. See: https://github.com/scikit-learn/scikit-learn/issues/21755 */display: inline-block !important;position: relative;}#sk-container-id-6 div.sk-text-repr-fallback {display: none;}</style><div id=\"sk-container-id-6\" class=\"sk-top-container\"><div class=\"sk-text-repr-fallback\"><pre>Pipeline(steps=[(&#x27;scaler&#x27;, StandardScaler()), (&#x27;pca&#x27;, PCA(n_components=15)),\n",
       "                (&#x27;lgmodel&#x27;, LogisticRegression())])</pre><b>In a Jupyter environment, please rerun this cell to show the HTML representation or trust the notebook. <br />On GitHub, the HTML representation is unable to render, please try loading this page with nbviewer.org.</b></div><div class=\"sk-container\" hidden><div class=\"sk-item sk-dashed-wrapped\"><div class=\"sk-label-container\"><div class=\"sk-label sk-toggleable\"><input class=\"sk-toggleable__control sk-hidden--visually\" id=\"sk-estimator-id-12\" type=\"checkbox\" ><label for=\"sk-estimator-id-12\" class=\"sk-toggleable__label sk-toggleable__label-arrow\">Pipeline</label><div class=\"sk-toggleable__content\"><pre>Pipeline(steps=[(&#x27;scaler&#x27;, StandardScaler()), (&#x27;pca&#x27;, PCA(n_components=15)),\n",
       "                (&#x27;lgmodel&#x27;, LogisticRegression())])</pre></div></div></div><div class=\"sk-serial\"><div class=\"sk-item\"><div class=\"sk-estimator sk-toggleable\"><input class=\"sk-toggleable__control sk-hidden--visually\" id=\"sk-estimator-id-13\" type=\"checkbox\" ><label for=\"sk-estimator-id-13\" class=\"sk-toggleable__label sk-toggleable__label-arrow\">StandardScaler</label><div class=\"sk-toggleable__content\"><pre>StandardScaler()</pre></div></div></div><div class=\"sk-item\"><div class=\"sk-estimator sk-toggleable\"><input class=\"sk-toggleable__control sk-hidden--visually\" id=\"sk-estimator-id-14\" type=\"checkbox\" ><label for=\"sk-estimator-id-14\" class=\"sk-toggleable__label sk-toggleable__label-arrow\">PCA</label><div class=\"sk-toggleable__content\"><pre>PCA(n_components=15)</pre></div></div></div><div class=\"sk-item\"><div class=\"sk-estimator sk-toggleable\"><input class=\"sk-toggleable__control sk-hidden--visually\" id=\"sk-estimator-id-15\" type=\"checkbox\" ><label for=\"sk-estimator-id-15\" class=\"sk-toggleable__label sk-toggleable__label-arrow\">LogisticRegression</label><div class=\"sk-toggleable__content\"><pre>LogisticRegression()</pre></div></div></div></div></div></div></div>"
      ],
      "text/plain": [
       "Pipeline(steps=[('scaler', StandardScaler()), ('pca', PCA(n_components=15)),\n",
       "                ('lgmodel', LogisticRegression())])"
      ]
     },
     "execution_count": 70,
     "metadata": {},
     "output_type": "execute_result"
    }
   ],
   "source": [
    "lg_model_pipeline.fit(X_train,Y_train)"
   ]
  },
  {
   "cell_type": "code",
   "execution_count": 71,
   "id": "36cf7744",
   "metadata": {},
   "outputs": [],
   "source": [
    "Y_predict=lg_model_pipeline.predict(X_test)"
   ]
  },
  {
   "cell_type": "code",
   "execution_count": 72,
   "id": "72c5a333",
   "metadata": {},
   "outputs": [
    {
     "name": "stdout",
     "output_type": "stream",
     "text": [
      "test accuracy =  98.64 %\n"
     ]
    }
   ],
   "source": [
    "print('test accuracy = ', round(accuracy_score(Y_test, Y_predict)*100, 2), '%')"
   ]
  },
  {
   "cell_type": "markdown",
   "id": "503424a7",
   "metadata": {},
   "source": [
    "***The Accuracy of the Logistic Regression Model using pipeline is 98.03%***"
   ]
  },
  {
   "cell_type": "code",
   "execution_count": 73,
   "id": "782f7a1b",
   "metadata": {},
   "outputs": [
    {
     "name": "stdout",
     "output_type": "stream",
     "text": [
      "              precision    recall  f1-score   support\n",
      "\n",
      "           0      0.998     0.974     0.986     10030\n",
      "           1      0.975     0.998     0.987     10088\n",
      "\n",
      "    accuracy                          0.986     20118\n",
      "   macro avg      0.987     0.986     0.986     20118\n",
      "weighted avg      0.987     0.986     0.986     20118\n",
      "\n"
     ]
    }
   ],
   "source": [
    "print(classification_report(Y_test, Y_predict, digits=3))"
   ]
  },
  {
   "cell_type": "code",
   "execution_count": 74,
   "id": "21955f2d",
   "metadata": {},
   "outputs": [
    {
     "data": {
      "text/plain": [
       "Text(0.5, 1.0, 'Confusion Matrix')"
      ]
     },
     "execution_count": 74,
     "metadata": {},
     "output_type": "execute_result"
    },
    {
     "data": {
      "image/png": "[encoded data removed]",
      "text/plain": [
       "<Figure size 640x480 with 2 Axes>"
      ]
     },
     "metadata": {},
     "output_type": "display_data"
    }
   ],
   "source": [
    "cf_matrix = confusion_matrix(Y_test, Y_predict)\n",
    "plt.figure()\n",
    "sns.heatmap(cf_matrix, annot=True)\n",
    "plt.xlabel('Prediction')\n",
    "plt.ylabel('Target')\n",
    "plt.title('Confusion Matrix')"
   ]
  },
  {
   "cell_type": "markdown",
   "id": "1be41ec7",
   "metadata": {},
   "source": [
    "# Final Classification Pipeline "
   ]
  },
  {
   "cell_type": "code",
   "execution_count": 75,
   "id": "7e090e7a",
   "metadata": {},
   "outputs": [],
   "source": [
    "estimators = [('BNB', bnb),  (\"logistic\",lgmodel)]\n",
    "clf = StackingClassifier(estimators=estimators)"
   ]
  },
  {
   "cell_type": "code",
   "execution_count": 76,
   "id": "ff8f1485",
   "metadata": {},
   "outputs": [],
   "source": [
    "classification_models = Pipeline([\n",
    "    ('stdscaler', scaler),\n",
    "    ('pca', pca),\n",
    "    ('classifier', clf)\n",
    "])"
   ]
  },
  {
   "cell_type": "code",
   "execution_count": 77,
   "id": "6a448e25",
   "metadata": {},
   "outputs": [
    {
     "data": {
      "text/html": [
       "<style>#sk-container-id-7 {color: black;}#sk-container-id-7 pre{padding: 0;}#sk-container-id-7 div.sk-toggleable {background-color: white;}#sk-container-id-7 label.sk-toggleable__label {cursor: pointer;display: block;width: 100%;margin-bottom: 0;padding: 0.3em;box-sizing: border-box;text-align: center;}#sk-container-id-7 label.sk-toggleable__label-arrow:before {content: \"▸\";float: left;margin-right: 0.25em;color: #696969;}#sk-container-id-7 label.sk-toggleable__label-arrow:hover:before {color: black;}#sk-container-id-7 div.sk-estimator:hover label.sk-toggleable__label-arrow:before {color: black;}#sk-container-id-7 div.sk-toggleable__content {max-height: 0;max-width: 0;overflow: hidden;text-align: left;background-color: #f0f8ff;}#sk-container-id-7 div.sk-toggleable__content pre {margin: 0.2em;color: black;border-radius: 0.25em;background-color: #f0f8ff;}#sk-container-id-7 input.sk-toggleable__control:checked~div.sk-toggleable__content {max-height: 200px;max-width: 100%;overflow: auto;}#sk-container-id-7 input.sk-toggleable__control:checked~label.sk-toggleable__label-arrow:before {content: \"▾\";}#sk-container-id-7 div.sk-estimator input.sk-toggleable__control:checked~label.sk-toggleable__label {background-color: #d4ebff;}#sk-container-id-7 div.sk-label input.sk-toggleable__control:checked~label.sk-toggleable__label {background-color: #d4ebff;}#sk-container-id-7 input.sk-hidden--visually {border: 0;clip: rect(1px 1px 1px 1px);clip: rect(1px, 1px, 1px, 1px);height: 1px;margin: -1px;overflow: hidden;padding: 0;position: absolute;width: 1px;}#sk-container-id-7 div.sk-estimator {font-family: monospace;background-color: #f0f8ff;border: 1px dotted black;border-radius: 0.25em;box-sizing: border-box;margin-bottom: 0.5em;}#sk-container-id-7 div.sk-estimator:hover {background-color: #d4ebff;}#sk-container-id-7 div.sk-parallel-item::after {content: \"\";width: 100%;border-bottom: 1px solid gray;flex-grow: 1;}#sk-container-id-7 div.sk-label:hover label.sk-toggleable__label {background-color: #d4ebff;}#sk-container-id-7 div.sk-serial::before {content: \"\";position: absolute;border-left: 1px solid gray;box-sizing: border-box;top: 0;bottom: 0;left: 50%;z-index: 0;}#sk-container-id-7 div.sk-serial {display: flex;flex-direction: column;align-items: center;background-color: white;padding-right: 0.2em;padding-left: 0.2em;position: relative;}#sk-container-id-7 div.sk-item {position: relative;z-index: 1;}#sk-container-id-7 div.sk-parallel {display: flex;align-items: stretch;justify-content: center;background-color: white;position: relative;}#sk-container-id-7 div.sk-item::before, #sk-container-id-7 div.sk-parallel-item::before {content: \"\";position: absolute;border-left: 1px solid gray;box-sizing: border-box;top: 0;bottom: 0;left: 50%;z-index: -1;}#sk-container-id-7 div.sk-parallel-item {display: flex;flex-direction: column;z-index: 1;position: relative;background-color: white;}#sk-container-id-7 div.sk-parallel-item:first-child::after {align-self: flex-end;width: 50%;}#sk-container-id-7 div.sk-parallel-item:last-child::after {align-self: flex-start;width: 50%;}#sk-container-id-7 div.sk-parallel-item:only-child::after {width: 0;}#sk-container-id-7 div.sk-dashed-wrapped {border: 1px dashed gray;margin: 0 0.4em 0.5em 0.4em;box-sizing: border-box;padding-bottom: 0.4em;background-color: white;}#sk-container-id-7 div.sk-label label {font-family: monospace;font-weight: bold;display: inline-block;line-height: 1.2em;}#sk-container-id-7 div.sk-label-container {text-align: center;}#sk-container-id-7 div.sk-container {/* jupyter's `normalize.less` sets `[hidden] { display: none; }` but bootstrap.min.css set `[hidden] { display: none !important; }` so we also need the `!important` here to be able to override the default hidden behavior on the sphinx rendered scikit-learn.org. See: https://github.com/scikit-learn/scikit-learn/issues/21755 */display: inline-block !important;position: relative;}#sk-container-id-7 div.sk-text-repr-fallback {display: none;}</style><div id=\"sk-container-id-7\" class=\"sk-top-container\"><div class=\"sk-text-repr-fallback\"><pre>Pipeline(steps=[(&#x27;stdscaler&#x27;, StandardScaler()), (&#x27;pca&#x27;, PCA(n_components=15)),\n",
       "                (&#x27;classifier&#x27;,\n",
       "                 StackingClassifier(estimators=[(&#x27;BNB&#x27;, BernoulliNB()),\n",
       "                                                (&#x27;logistic&#x27;,\n",
       "                                                 LogisticRegression())]))])</pre><b>In a Jupyter environment, please rerun this cell to show the HTML representation or trust the notebook. <br />On GitHub, the HTML representation is unable to render, please try loading this page with nbviewer.org.</b></div><div class=\"sk-container\" hidden><div class=\"sk-item sk-dashed-wrapped\"><div class=\"sk-label-container\"><div class=\"sk-label sk-toggleable\"><input class=\"sk-toggleable__control sk-hidden--visually\" id=\"sk-estimator-id-16\" type=\"checkbox\" ><label for=\"sk-estimator-id-16\" class=\"sk-toggleable__label sk-toggleable__label-arrow\">Pipeline</label><div class=\"sk-toggleable__content\"><pre>Pipeline(steps=[(&#x27;stdscaler&#x27;, StandardScaler()), (&#x27;pca&#x27;, PCA(n_components=15)),\n",
       "                (&#x27;classifier&#x27;,\n",
       "                 StackingClassifier(estimators=[(&#x27;BNB&#x27;, BernoulliNB()),\n",
       "                                                (&#x27;logistic&#x27;,\n",
       "                                                 LogisticRegression())]))])</pre></div></div></div><div class=\"sk-serial\"><div class=\"sk-item\"><div class=\"sk-estimator sk-toggleable\"><input class=\"sk-toggleable__control sk-hidden--visually\" id=\"sk-estimator-id-17\" type=\"checkbox\" ><label for=\"sk-estimator-id-17\" class=\"sk-toggleable__label sk-toggleable__label-arrow\">StandardScaler</label><div class=\"sk-toggleable__content\"><pre>StandardScaler()</pre></div></div></div><div class=\"sk-item\"><div class=\"sk-estimator sk-toggleable\"><input class=\"sk-toggleable__control sk-hidden--visually\" id=\"sk-estimator-id-18\" type=\"checkbox\" ><label for=\"sk-estimator-id-18\" class=\"sk-toggleable__label sk-toggleable__label-arrow\">PCA</label><div class=\"sk-toggleable__content\"><pre>PCA(n_components=15)</pre></div></div></div><div class=\"sk-item\"><div class=\"sk-label-container\"><div class=\"sk-label sk-toggleable\"><input class=\"sk-toggleable__control sk-hidden--visually\" id=\"sk-estimator-id-19\" type=\"checkbox\" ><label for=\"sk-estimator-id-19\" class=\"sk-toggleable__label sk-toggleable__label-arrow\">classifier: StackingClassifier</label><div class=\"sk-toggleable__content\"><pre>StackingClassifier(estimators=[(&#x27;BNB&#x27;, BernoulliNB()),\n",
       "                               (&#x27;logistic&#x27;, LogisticRegression())])</pre></div></div></div><div class=\"sk-serial\"><div class=\"sk-item\"><div class=\"sk-parallel\"><div class=\"sk-parallel-item\"><div class=\"sk-item\"><div class=\"sk-label-container\"><div class=\"sk-label sk-toggleable\"><label>BNB</label></div></div><div class=\"sk-serial\"><div class=\"sk-item\"><div class=\"sk-estimator sk-toggleable\"><input class=\"sk-toggleable__control sk-hidden--visually\" id=\"sk-estimator-id-20\" type=\"checkbox\" ><label for=\"sk-estimator-id-20\" class=\"sk-toggleable__label sk-toggleable__label-arrow\">BernoulliNB</label><div class=\"sk-toggleable__content\"><pre>BernoulliNB()</pre></div></div></div></div></div></div><div class=\"sk-parallel-item\"><div class=\"sk-item\"><div class=\"sk-label-container\"><div class=\"sk-label sk-toggleable\"><label>logistic</label></div></div><div class=\"sk-serial\"><div class=\"sk-item\"><div class=\"sk-estimator sk-toggleable\"><input class=\"sk-toggleable__control sk-hidden--visually\" id=\"sk-estimator-id-21\" type=\"checkbox\" ><label for=\"sk-estimator-id-21\" class=\"sk-toggleable__label sk-toggleable__label-arrow\">LogisticRegression</label><div class=\"sk-toggleable__content\"><pre>LogisticRegression()</pre></div></div></div></div></div></div></div></div><div class=\"sk-item\"><div class=\"sk-parallel\"><div class=\"sk-parallel-item\"><div class=\"sk-item\"><div class=\"sk-label-container\"><div class=\"sk-label sk-toggleable\"><label>final_estimator</label></div></div><div class=\"sk-serial\"><div class=\"sk-item\"><div class=\"sk-estimator sk-toggleable\"><input class=\"sk-toggleable__control sk-hidden--visually\" id=\"sk-estimator-id-22\" type=\"checkbox\" ><label for=\"sk-estimator-id-22\" class=\"sk-toggleable__label sk-toggleable__label-arrow\">LogisticRegression</label><div class=\"sk-toggleable__content\"><pre>LogisticRegression()</pre></div></div></div></div></div></div></div></div></div></div></div></div></div></div>"
      ],
      "text/plain": [
       "Pipeline(steps=[('stdscaler', StandardScaler()), ('pca', PCA(n_components=15)),\n",
       "                ('classifier',\n",
       "                 StackingClassifier(estimators=[('BNB', BernoulliNB()),\n",
       "                                                ('logistic',\n",
       "                                                 LogisticRegression())]))])"
      ]
     },
     "execution_count": 77,
     "metadata": {},
     "output_type": "execute_result"
    }
   ],
   "source": [
    "classification_models"
   ]
  },
  {
   "cell_type": "code",
   "execution_count": 78,
   "id": "f33bfa12",
   "metadata": {},
   "outputs": [
    {
     "name": "stdout",
     "output_type": "stream",
     "text": [
      "test accuracy =  98.98 %\n"
     ]
    }
   ],
   "source": [
    "classification_models.fit(X_train, Y_train)\n",
    "pred = classification_models.predict(X_test)\n",
    "print('test accuracy = ', round(accuracy_score(Y_test, pred)*100, 2), '%')"
   ]
  },
  {
   "cell_type": "code",
   "execution_count": 79,
   "id": "515b7780",
   "metadata": {},
   "outputs": [
    {
     "name": "stdout",
     "output_type": "stream",
     "text": [
      "              precision    recall  f1-score   support\n",
      "\n",
      "           0      0.997     0.982     0.990     10030\n",
      "           1      0.983     0.997     0.990     10088\n",
      "\n",
      "    accuracy                          0.990     20118\n",
      "   macro avg      0.990     0.990     0.990     20118\n",
      "weighted avg      0.990     0.990     0.990     20118\n",
      "\n"
     ]
    }
   ],
   "source": [
    "print(classification_report(Y_test, pred, digits=3))"
   ]
  },
  {
   "cell_type": "markdown",
   "id": "e92abd47",
   "metadata": {},
   "source": [
    "## Creating a pickle file of final Classification model"
   ]
  },
  {
   "cell_type": "markdown",
   "id": "7876e141",
   "metadata": {},
   "source": [
    "* Importing pickle library"
   ]
  },
  {
   "cell_type": "code",
   "execution_count": 80,
   "id": "6bcf4456",
   "metadata": {},
   "outputs": [],
   "source": [
    "import pickle as pkl"
   ]
  },
  {
   "cell_type": "code",
   "execution_count": 81,
   "id": "2b9ba0c1",
   "metadata": {},
   "outputs": [],
   "source": [
    "pkl.dump(classification_models, open('cls_model_final.pkl', 'wb'))"
   ]
  },
  {
   "cell_type": "markdown",
   "id": "ac400ed7",
   "metadata": {},
   "source": [
    "### The classification model pipeline is converted into pickle file and dumped with the name as \"cls_model_final\""
   ]
  },
  {
   "cell_type": "code",
   "execution_count": 82,
   "id": "bda4103e",
   "metadata": {},
   "outputs": [
    {
     "data": {
      "text/plain": [
       "['classification_model.joblib']"
      ]
     },
     "execution_count": 82,
     "metadata": {},
     "output_type": "execute_result"
    }
   ],
   "source": [
    "import joblib\n",
    "\n",
    "joblib.dump(classification_models,\"classification_model.joblib\")"
   ]
  },
  {
   "cell_type": "code",
   "execution_count": null,
   "id": "974231bb",
   "metadata": {},
   "outputs": [],
   "source": []
  }
 ],
 "metadata": {
  "kernelspec": {
   "display_name": "Python 3 (ipykernel)",
   "language": "python",
   "name": "python3"
  },
  "language_info": {
   "codemirror_mode": {
    "name": "ipython",
    "version": 3
   },
   "file_extension": ".py",
   "mimetype": "text/x-python",
   "name": "python",
   "nbconvert_exporter": "python",
   "pygments_lexer": "ipython3",
   "version": "3.10.12"
  }
 },
 "nbformat": 4,
 "nbformat_minor": 5
}
